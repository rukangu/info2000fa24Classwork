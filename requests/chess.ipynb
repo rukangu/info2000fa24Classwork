{
 "cells": [
  {
   "cell_type": "code",
   "execution_count": 7,
   "metadata": {},
   "outputs": [],
   "source": [
    "import requests\n",
    "headers = {'User-Agent': 'Mozilla/5.0 (Macintosh; Intel Mac OS X 10_10_1) AppleWebKit/537.36 (KHTML, like Gecko) Chrome/39.0.2171.95 Safari/537.36'}\n",
    "username = 'hikaru'"
   ]
  },
  {
   "cell_type": "code",
   "execution_count": 4,
   "metadata": {},
   "outputs": [
    {
     "name": "stdout",
     "output_type": "stream",
     "text": [
      "https://api.chess.com/pub/player/hikaru\n"
     ]
    }
   ],
   "source": [
    "base_url = 'https://api.chess.com/pub/player/'\n",
    "profile_url = fr'{base_url}{username}'\n",
    "print(profile_url)\n"
   ]
  },
  {
   "cell_type": "code",
   "execution_count": 8,
   "metadata": {},
   "outputs": [],
   "source": [
    "response = requests.get(profile_url, headers=headers)"
   ]
  },
  {
   "cell_type": "code",
   "execution_count": 9,
   "metadata": {},
   "outputs": [
    {
     "data": {
      "text/plain": [
       "<Response [200]>"
      ]
     },
     "execution_count": 9,
     "metadata": {},
     "output_type": "execute_result"
    }
   ],
   "source": [
    "response"
   ]
  },
  {
   "cell_type": "code",
   "execution_count": 10,
   "metadata": {},
   "outputs": [
    {
     "data": {
      "text/plain": [
       "['__attrs__',\n",
       " '__bool__',\n",
       " '__class__',\n",
       " '__delattr__',\n",
       " '__dict__',\n",
       " '__dir__',\n",
       " '__doc__',\n",
       " '__enter__',\n",
       " '__eq__',\n",
       " '__exit__',\n",
       " '__format__',\n",
       " '__ge__',\n",
       " '__getattribute__',\n",
       " '__getstate__',\n",
       " '__gt__',\n",
       " '__hash__',\n",
       " '__init__',\n",
       " '__init_subclass__',\n",
       " '__iter__',\n",
       " '__le__',\n",
       " '__lt__',\n",
       " '__module__',\n",
       " '__ne__',\n",
       " '__new__',\n",
       " '__nonzero__',\n",
       " '__reduce__',\n",
       " '__reduce_ex__',\n",
       " '__repr__',\n",
       " '__setattr__',\n",
       " '__setstate__',\n",
       " '__sizeof__',\n",
       " '__str__',\n",
       " '__subclasshook__',\n",
       " '__weakref__',\n",
       " '_content',\n",
       " '_content_consumed',\n",
       " '_next',\n",
       " 'apparent_encoding',\n",
       " 'close',\n",
       " 'connection',\n",
       " 'content',\n",
       " 'cookies',\n",
       " 'elapsed',\n",
       " 'encoding',\n",
       " 'headers',\n",
       " 'history',\n",
       " 'is_permanent_redirect',\n",
       " 'is_redirect',\n",
       " 'iter_content',\n",
       " 'iter_lines',\n",
       " 'json',\n",
       " 'links',\n",
       " 'next',\n",
       " 'ok',\n",
       " 'raise_for_status',\n",
       " 'raw',\n",
       " 'reason',\n",
       " 'request',\n",
       " 'status_code',\n",
       " 'text',\n",
       " 'url']"
      ]
     },
     "execution_count": 10,
     "metadata": {},
     "output_type": "execute_result"
    }
   ],
   "source": [
    "dir(response)"
   ]
  },
  {
   "cell_type": "code",
   "execution_count": 11,
   "metadata": {},
   "outputs": [
    {
     "data": {
      "text/plain": [
       "{'avatar': 'https://images.chesscomfiles.com/uploads/v1/user/15448422.88c010c1.200x200o.3c5619f5441e.png',\n",
       " 'player_id': 15448422,\n",
       " '@id': 'https://api.chess.com/pub/player/hikaru',\n",
       " 'url': 'https://www.chess.com/member/Hikaru',\n",
       " 'name': 'Hikaru Nakamura',\n",
       " 'username': 'hikaru',\n",
       " 'title': 'GM',\n",
       " 'followers': 1226750,\n",
       " 'country': 'https://api.chess.com/pub/country/US',\n",
       " 'location': 'Florida',\n",
       " 'last_online': 1732574738,\n",
       " 'joined': 1389043258,\n",
       " 'status': 'premium',\n",
       " 'is_streamer': True,\n",
       " 'twitch_url': 'https://twitch.tv/gmhikaru',\n",
       " 'verified': False,\n",
       " 'league': 'Legend',\n",
       " 'streaming_platforms': [{'type': 'twitch',\n",
       "   'channel_url': 'https://twitch.tv/gmhikaru'}]}"
      ]
     },
     "execution_count": 11,
     "metadata": {},
     "output_type": "execute_result"
    }
   ],
   "source": [
    "response.json()"
   ]
  },
  {
   "cell_type": "code",
   "execution_count": 12,
   "metadata": {},
   "outputs": [
    {
     "name": "stdout",
     "output_type": "stream",
     "text": [
      "https://api.chess.com/pub/player/hikaru/games/2024/11\n"
     ]
    }
   ],
   "source": [
    "# let's analyze some games\n",
    "\n",
    "# pattern :https://api.chess.com/pub/player/{username}/games/{YYYY}/{MM} \n",
    "\n",
    "MM = 11\n",
    "YYYY = 2024\n",
    "\n",
    "target_url = fr'https://api.chess.com/pub/player/{username}/games/{YYYY}/{MM}'\n",
    "print(target_url)"
   ]
  },
  {
   "cell_type": "code",
   "execution_count": 13,
   "metadata": {},
   "outputs": [],
   "source": [
    "response = requests.get(target_url, headers=headers)"
   ]
  },
  {
   "cell_type": "code",
   "execution_count": 15,
   "metadata": {},
   "outputs": [
    {
     "data": {
      "text/plain": [
       "dict_keys(['games'])"
      ]
     },
     "execution_count": 15,
     "metadata": {},
     "output_type": "execute_result"
    }
   ],
   "source": [
    "response.json().keys()"
   ]
  },
  {
   "cell_type": "code",
   "execution_count": 16,
   "metadata": {},
   "outputs": [],
   "source": [
    "# let's put this in a dataframe\n",
    "import pandas as pd\n",
    "df = pd.DataFrame(response.json()['games'])"
   ]
  },
  {
   "cell_type": "code",
   "execution_count": 18,
   "metadata": {},
   "outputs": [
    {
     "data": {
      "text/html": [
       "<div>\n",
       "<style scoped>\n",
       "    .dataframe tbody tr th:only-of-type {\n",
       "        vertical-align: middle;\n",
       "    }\n",
       "\n",
       "    .dataframe tbody tr th {\n",
       "        vertical-align: top;\n",
       "    }\n",
       "\n",
       "    .dataframe thead th {\n",
       "        text-align: right;\n",
       "    }\n",
       "</style>\n",
       "<table border=\"1\" class=\"dataframe\">\n",
       "  <thead>\n",
       "    <tr style=\"text-align: right;\">\n",
       "      <th></th>\n",
       "      <th>url</th>\n",
       "      <th>pgn</th>\n",
       "      <th>time_control</th>\n",
       "      <th>end_time</th>\n",
       "      <th>rated</th>\n",
       "      <th>tcn</th>\n",
       "      <th>uuid</th>\n",
       "      <th>initial_setup</th>\n",
       "      <th>fen</th>\n",
       "      <th>start_time</th>\n",
       "      <th>time_class</th>\n",
       "      <th>rules</th>\n",
       "      <th>white</th>\n",
       "      <th>black</th>\n",
       "      <th>eco</th>\n",
       "      <th>accuracies</th>\n",
       "    </tr>\n",
       "  </thead>\n",
       "  <tbody>\n",
       "    <tr>\n",
       "      <th>0</th>\n",
       "      <td>https://www.chess.com/game/daily/175903249</td>\n",
       "      <td>[Event \"Play vs Bot\"]\\n[Site \"Chess.com\"]\\n[Da...</td>\n",
       "      <td>1/0</td>\n",
       "      <td>1730501016</td>\n",
       "      <td>False</td>\n",
       "      <td>mC0Kgv5QlBKBvB!Tbs9zBQXQdm8!CK98cuzsjs8KowTJfo...</td>\n",
       "      <td>bb592aee-98a2-11ef-b248-1724ad6b12c6</td>\n",
       "      <td>rnbqkbnr/pppppppp/8/8/8/8/PPPPPPPP/RNBQKBNR w ...</td>\n",
       "      <td>8/8/2p5/8/8/2k5/8/r1K4b w - - 28 67</td>\n",
       "      <td>1.730499e+09</td>\n",
       "      <td>daily</td>\n",
       "      <td>chess</td>\n",
       "      <td>{'rating': 2725, 'result': 'checkmated', '@id'...</td>\n",
       "      <td>{'rating': 2769, 'result': 'win', '@id': 'http...</td>\n",
       "      <td>https://www.chess.com/openings/Four-Knights-Ga...</td>\n",
       "      <td>NaN</td>\n",
       "    </tr>\n",
       "    <tr>\n",
       "      <th>1</th>\n",
       "      <td>https://www.chess.com/game/live/124302530065</td>\n",
       "      <td>[Event \"Live Chess\"]\\n[Site \"Chess.com\"]\\n[Dat...</td>\n",
       "      <td>60</td>\n",
       "      <td>1730563543</td>\n",
       "      <td>True</td>\n",
       "      <td>jr0KcjZRmu5Qgv!TlBKBvB90fm8!eg6ZkA98mv09bs45BQ...</td>\n",
       "      <td>067a6bf4-9934-11ef-9df8-6cfe544c0428</td>\n",
       "      <td></td>\n",
       "      <td>8/5pbk/3p1p2/2p2P1P/2P1q1K1/6P1/8/7q w - -</td>\n",
       "      <td>NaN</td>\n",
       "      <td>bullet</td>\n",
       "      <td>chess</td>\n",
       "      <td>{'rating': 3248, 'result': 'checkmated', '@id'...</td>\n",
       "      <td>{'rating': 2565, 'result': 'win', '@id': 'http...</td>\n",
       "      <td>https://www.chess.com/openings/Nimzowitsch-Lar...</td>\n",
       "      <td>{'white': 78.48, 'black': 83.29}</td>\n",
       "    </tr>\n",
       "  </tbody>\n",
       "</table>\n",
       "</div>"
      ],
      "text/plain": [
       "                                            url  \\\n",
       "0    https://www.chess.com/game/daily/175903249   \n",
       "1  https://www.chess.com/game/live/124302530065   \n",
       "\n",
       "                                                 pgn time_control    end_time  \\\n",
       "0  [Event \"Play vs Bot\"]\\n[Site \"Chess.com\"]\\n[Da...          1/0  1730501016   \n",
       "1  [Event \"Live Chess\"]\\n[Site \"Chess.com\"]\\n[Dat...           60  1730563543   \n",
       "\n",
       "   rated                                                tcn  \\\n",
       "0  False  mC0Kgv5QlBKBvB!Tbs9zBQXQdm8!CK98cuzsjs8KowTJfo...   \n",
       "1   True  jr0KcjZRmu5Qgv!TlBKBvB90fm8!eg6ZkA98mv09bs45BQ...   \n",
       "\n",
       "                                   uuid  \\\n",
       "0  bb592aee-98a2-11ef-b248-1724ad6b12c6   \n",
       "1  067a6bf4-9934-11ef-9df8-6cfe544c0428   \n",
       "\n",
       "                                       initial_setup  \\\n",
       "0  rnbqkbnr/pppppppp/8/8/8/8/PPPPPPPP/RNBQKBNR w ...   \n",
       "1                                                      \n",
       "\n",
       "                                          fen    start_time time_class  rules  \\\n",
       "0         8/8/2p5/8/8/2k5/8/r1K4b w - - 28 67  1.730499e+09      daily  chess   \n",
       "1  8/5pbk/3p1p2/2p2P1P/2P1q1K1/6P1/8/7q w - -           NaN     bullet  chess   \n",
       "\n",
       "                                               white  \\\n",
       "0  {'rating': 2725, 'result': 'checkmated', '@id'...   \n",
       "1  {'rating': 3248, 'result': 'checkmated', '@id'...   \n",
       "\n",
       "                                               black  \\\n",
       "0  {'rating': 2769, 'result': 'win', '@id': 'http...   \n",
       "1  {'rating': 2565, 'result': 'win', '@id': 'http...   \n",
       "\n",
       "                                                 eco  \\\n",
       "0  https://www.chess.com/openings/Four-Knights-Ga...   \n",
       "1  https://www.chess.com/openings/Nimzowitsch-Lar...   \n",
       "\n",
       "                         accuracies  \n",
       "0                               NaN  \n",
       "1  {'white': 78.48, 'black': 83.29}  "
      ]
     },
     "execution_count": 18,
     "metadata": {},
     "output_type": "execute_result"
    }
   ],
   "source": [
    "df.head(2)"
   ]
  },
  {
   "cell_type": "code",
   "execution_count": 19,
   "metadata": {},
   "outputs": [
    {
     "data": {
      "text/plain": [
       "(700, 16)"
      ]
     },
     "execution_count": 19,
     "metadata": {},
     "output_type": "execute_result"
    }
   ],
   "source": [
    "df.shape"
   ]
  },
  {
   "cell_type": "code",
   "execution_count": 23,
   "metadata": {},
   "outputs": [
    {
     "name": "stdout",
     "output_type": "stream",
     "text": [
      "[Event \"Play vs Bot\"]\n",
      "[Site \"Chess.com\"]\n",
      "[Date \"2024.11.01\"]\n",
      "[Round \"-\"]\n",
      "[White \"capablanca-BOT\"]\n",
      "[Black \"Hikaru\"]\n",
      "[Result \"0-1\"]\n",
      "[CurrentPosition \"8/8/2p5/8/8/2k5/8/r1K4b w - - 28 67\"]\n",
      "[Timezone \"UTC\"]\n",
      "[ECO \"C47\"]\n",
      "[ECOUrl \"https://www.chess.com/openings/Four-Knights-Game-Scotch-Variation-Accepted-5.Nxd4-Bb4-6.Nxc6-bxc6\"]\n",
      "[UTCDate \"2024.11.01\"]\n",
      "[UTCTime \"22:08:04\"]\n",
      "[WhiteElo \"2725\"]\n",
      "[BlackElo \"2769\"]\n",
      "[TimeControl \"1/0\"]\n",
      "[Termination \"Hikaru won by checkmate\"]\n",
      "[StartTime \"22:08:04\"]\n",
      "[EndDate \"2024.11.01\"]\n",
      "[EndTime \"22:43:36\"]\n",
      "[Link \"https://www.chess.com/game/computer/175903249\"]\n",
      "\n",
      "1. e4 e5 2. Nf3 Nc6 3. d4 exd4 4. Nxd4 Nf6 5. Nc3 Bb4 6. Nxc6 bxc6 7. Qe2 O-O 8. e5 Re8 9. Be3 Bxc3+ 10. bxc3 Rxe5 11. g3 Nd5 12. Bg2 Nxe3 13. fxe3 a5 14. O-O Ba6 15. c4 Qe7 16. Rfe1 d5 17. Rab1 Bxc4 18. Qd2 a4 19. Rb4 Bb5 20. Qc3 Re8 21. e4 f5 22. Bf1 dxe4 23. Reb1 Qc5+ 24. Qxc5 Rxc5 25. c4 Ba6 26. Rxa4 Bc8 27. Rb8 Bd7 28. Rxe8+ Bxe8 29. Ra7 g5 30. a4 Bf7 31. Rxc7 Bxc4 32. Kf2 e3+ 33. Ke1 Bd5 34. Kd1 f4 35. gxf4 gxf4 36. Bd3 f3 37. Rb7 e2+ 38. Kd2 Rc1 39. Bxe2 fxe2 40. Kxe2 Rc2+ 41. Ke3 Rxh2 42. Rb4 Ra2 43. Kd4 Kf7 44. Kc5 h5 45. Rd4 Kg6 46. Rb4 Kg5 47. Kb6 h4 48. a5 h3 49. a6 h2 50. Rb1 h1=Q 51. Rxh1 Bxh1 52. Kc5 Rxa6 53. Kc4 Rb6 54. Kd4 Rb5 55. Kd3 Rb4 56. Kc3 Re4 57. Kd2 Kf5 58. Kc3 Ke5 59. Kc2 Kd4 60. Kb3 Kc5 61. Ka3 Rb4 62. Ka2 Kc4 63. Ka3 Kc3 64. Ka2 Ra4+ 65. Kb1 Ra3 66. Kc1 Ra1# 0-1\n",
      "\n"
     ]
    }
   ],
   "source": [
    "print(df.iloc[0,:].pgn)"
   ]
  },
  {
   "cell_type": "code",
   "execution_count": 26,
   "metadata": {},
   "outputs": [
    {
     "name": "stdout",
     "output_type": "stream",
     "text": [
      "{'rating': 2725, 'result': 'checkmated', '@id': 'https://api.chess.com/pub/player/capablanca-bot', 'username': 'capablanca-BOT', 'uuid': '3d086f74-8bdc-11ef-bdc5-49c48571a85c'}\n",
      "{'rating': 2769, 'result': 'win', '@id': 'https://api.chess.com/pub/player/hikaru', 'username': 'Hikaru', 'uuid': '6f4deb88-7718-11e3-8016-000000000000'}\n"
     ]
    }
   ],
   "source": [
    "print(df.iloc[0,:].white)\n",
    "print(df.iloc[0,:].black)\n"
   ]
  },
  {
   "cell_type": "code",
   "execution_count": 31,
   "metadata": {},
   "outputs": [
    {
     "data": {
      "text/plain": [
       "'capablanca-BOT'"
      ]
     },
     "execution_count": 31,
     "metadata": {},
     "output_type": "execute_result"
    }
   ],
   "source": [
    "df.iloc[0,:].white['username']"
   ]
  },
  {
   "cell_type": "code",
   "execution_count": 35,
   "metadata": {},
   "outputs": [],
   "source": [
    "# interested in \n",
    "# what color pieces the player had\n",
    "# wins \n",
    "df['white_user'] = df['white'].apply(lambda row: row['username'])\n",
    "df['black_user'] = df['black'].apply(lambda row: row['username'])\n"
   ]
  },
  {
   "cell_type": "code",
   "execution_count": 36,
   "metadata": {},
   "outputs": [
    {
     "data": {
      "text/html": [
       "<div>\n",
       "<style scoped>\n",
       "    .dataframe tbody tr th:only-of-type {\n",
       "        vertical-align: middle;\n",
       "    }\n",
       "\n",
       "    .dataframe tbody tr th {\n",
       "        vertical-align: top;\n",
       "    }\n",
       "\n",
       "    .dataframe thead th {\n",
       "        text-align: right;\n",
       "    }\n",
       "</style>\n",
       "<table border=\"1\" class=\"dataframe\">\n",
       "  <thead>\n",
       "    <tr style=\"text-align: right;\">\n",
       "      <th></th>\n",
       "      <th>url</th>\n",
       "      <th>pgn</th>\n",
       "      <th>time_control</th>\n",
       "      <th>end_time</th>\n",
       "      <th>rated</th>\n",
       "      <th>tcn</th>\n",
       "      <th>uuid</th>\n",
       "      <th>initial_setup</th>\n",
       "      <th>fen</th>\n",
       "      <th>start_time</th>\n",
       "      <th>time_class</th>\n",
       "      <th>rules</th>\n",
       "      <th>white</th>\n",
       "      <th>black</th>\n",
       "      <th>eco</th>\n",
       "      <th>accuracies</th>\n",
       "      <th>white_user</th>\n",
       "      <th>black_user</th>\n",
       "    </tr>\n",
       "  </thead>\n",
       "  <tbody>\n",
       "    <tr>\n",
       "      <th>0</th>\n",
       "      <td>https://www.chess.com/game/daily/175903249</td>\n",
       "      <td>[Event \"Play vs Bot\"]\\n[Site \"Chess.com\"]\\n[Da...</td>\n",
       "      <td>1/0</td>\n",
       "      <td>1730501016</td>\n",
       "      <td>False</td>\n",
       "      <td>mC0Kgv5QlBKBvB!Tbs9zBQXQdm8!CK98cuzsjs8KowTJfo...</td>\n",
       "      <td>bb592aee-98a2-11ef-b248-1724ad6b12c6</td>\n",
       "      <td>rnbqkbnr/pppppppp/8/8/8/8/PPPPPPPP/RNBQKBNR w ...</td>\n",
       "      <td>8/8/2p5/8/8/2k5/8/r1K4b w - - 28 67</td>\n",
       "      <td>1.730499e+09</td>\n",
       "      <td>daily</td>\n",
       "      <td>chess</td>\n",
       "      <td>{'rating': 2725, 'result': 'checkmated', '@id'...</td>\n",
       "      <td>{'rating': 2769, 'result': 'win', '@id': 'http...</td>\n",
       "      <td>https://www.chess.com/openings/Four-Knights-Ga...</td>\n",
       "      <td>NaN</td>\n",
       "      <td>capablanca-BOT</td>\n",
       "      <td>Hikaru</td>\n",
       "    </tr>\n",
       "    <tr>\n",
       "      <th>1</th>\n",
       "      <td>https://www.chess.com/game/live/124302530065</td>\n",
       "      <td>[Event \"Live Chess\"]\\n[Site \"Chess.com\"]\\n[Dat...</td>\n",
       "      <td>60</td>\n",
       "      <td>1730563543</td>\n",
       "      <td>True</td>\n",
       "      <td>jr0KcjZRmu5Qgv!TlBKBvB90fm8!eg6ZkA98mv09bs45BQ...</td>\n",
       "      <td>067a6bf4-9934-11ef-9df8-6cfe544c0428</td>\n",
       "      <td></td>\n",
       "      <td>8/5pbk/3p1p2/2p2P1P/2P1q1K1/6P1/8/7q w - -</td>\n",
       "      <td>NaN</td>\n",
       "      <td>bullet</td>\n",
       "      <td>chess</td>\n",
       "      <td>{'rating': 3248, 'result': 'checkmated', '@id'...</td>\n",
       "      <td>{'rating': 2565, 'result': 'win', '@id': 'http...</td>\n",
       "      <td>https://www.chess.com/openings/Nimzowitsch-Lar...</td>\n",
       "      <td>{'white': 78.48, 'black': 83.29}</td>\n",
       "      <td>Hikaru</td>\n",
       "      <td>meoluoi91</td>\n",
       "    </tr>\n",
       "  </tbody>\n",
       "</table>\n",
       "</div>"
      ],
      "text/plain": [
       "                                            url  \\\n",
       "0    https://www.chess.com/game/daily/175903249   \n",
       "1  https://www.chess.com/game/live/124302530065   \n",
       "\n",
       "                                                 pgn time_control    end_time  \\\n",
       "0  [Event \"Play vs Bot\"]\\n[Site \"Chess.com\"]\\n[Da...          1/0  1730501016   \n",
       "1  [Event \"Live Chess\"]\\n[Site \"Chess.com\"]\\n[Dat...           60  1730563543   \n",
       "\n",
       "   rated                                                tcn  \\\n",
       "0  False  mC0Kgv5QlBKBvB!Tbs9zBQXQdm8!CK98cuzsjs8KowTJfo...   \n",
       "1   True  jr0KcjZRmu5Qgv!TlBKBvB90fm8!eg6ZkA98mv09bs45BQ...   \n",
       "\n",
       "                                   uuid  \\\n",
       "0  bb592aee-98a2-11ef-b248-1724ad6b12c6   \n",
       "1  067a6bf4-9934-11ef-9df8-6cfe544c0428   \n",
       "\n",
       "                                       initial_setup  \\\n",
       "0  rnbqkbnr/pppppppp/8/8/8/8/PPPPPPPP/RNBQKBNR w ...   \n",
       "1                                                      \n",
       "\n",
       "                                          fen    start_time time_class  rules  \\\n",
       "0         8/8/2p5/8/8/2k5/8/r1K4b w - - 28 67  1.730499e+09      daily  chess   \n",
       "1  8/5pbk/3p1p2/2p2P1P/2P1q1K1/6P1/8/7q w - -           NaN     bullet  chess   \n",
       "\n",
       "                                               white  \\\n",
       "0  {'rating': 2725, 'result': 'checkmated', '@id'...   \n",
       "1  {'rating': 3248, 'result': 'checkmated', '@id'...   \n",
       "\n",
       "                                               black  \\\n",
       "0  {'rating': 2769, 'result': 'win', '@id': 'http...   \n",
       "1  {'rating': 2565, 'result': 'win', '@id': 'http...   \n",
       "\n",
       "                                                 eco  \\\n",
       "0  https://www.chess.com/openings/Four-Knights-Ga...   \n",
       "1  https://www.chess.com/openings/Nimzowitsch-Lar...   \n",
       "\n",
       "                         accuracies      white_user black_user  \n",
       "0                               NaN  capablanca-BOT     Hikaru  \n",
       "1  {'white': 78.48, 'black': 83.29}          Hikaru  meoluoi91  "
      ]
     },
     "execution_count": 36,
     "metadata": {},
     "output_type": "execute_result"
    }
   ],
   "source": [
    "df.head(2)"
   ]
  },
  {
   "cell_type": "code",
   "execution_count": 37,
   "metadata": {},
   "outputs": [],
   "source": [
    "def color(row):\n",
    "    if row.white_user.casefold() == username.casefold():\n",
    "        return 'white'\n",
    "    else:\n",
    "        return 'black'"
   ]
  },
  {
   "cell_type": "code",
   "execution_count": 38,
   "metadata": {},
   "outputs": [],
   "source": [
    "df['color'] = df.apply(color, axis=1)"
   ]
  },
  {
   "cell_type": "code",
   "execution_count": 39,
   "metadata": {},
   "outputs": [
    {
     "data": {
      "text/html": [
       "<div>\n",
       "<style scoped>\n",
       "    .dataframe tbody tr th:only-of-type {\n",
       "        vertical-align: middle;\n",
       "    }\n",
       "\n",
       "    .dataframe tbody tr th {\n",
       "        vertical-align: top;\n",
       "    }\n",
       "\n",
       "    .dataframe thead th {\n",
       "        text-align: right;\n",
       "    }\n",
       "</style>\n",
       "<table border=\"1\" class=\"dataframe\">\n",
       "  <thead>\n",
       "    <tr style=\"text-align: right;\">\n",
       "      <th></th>\n",
       "      <th>url</th>\n",
       "      <th>pgn</th>\n",
       "      <th>time_control</th>\n",
       "      <th>end_time</th>\n",
       "      <th>rated</th>\n",
       "      <th>tcn</th>\n",
       "      <th>uuid</th>\n",
       "      <th>initial_setup</th>\n",
       "      <th>fen</th>\n",
       "      <th>start_time</th>\n",
       "      <th>time_class</th>\n",
       "      <th>rules</th>\n",
       "      <th>white</th>\n",
       "      <th>black</th>\n",
       "      <th>eco</th>\n",
       "      <th>accuracies</th>\n",
       "      <th>white_user</th>\n",
       "      <th>black_user</th>\n",
       "      <th>color</th>\n",
       "    </tr>\n",
       "  </thead>\n",
       "  <tbody>\n",
       "    <tr>\n",
       "      <th>0</th>\n",
       "      <td>https://www.chess.com/game/daily/175903249</td>\n",
       "      <td>[Event \"Play vs Bot\"]\\n[Site \"Chess.com\"]\\n[Da...</td>\n",
       "      <td>1/0</td>\n",
       "      <td>1730501016</td>\n",
       "      <td>False</td>\n",
       "      <td>mC0Kgv5QlBKBvB!Tbs9zBQXQdm8!CK98cuzsjs8KowTJfo...</td>\n",
       "      <td>bb592aee-98a2-11ef-b248-1724ad6b12c6</td>\n",
       "      <td>rnbqkbnr/pppppppp/8/8/8/8/PPPPPPPP/RNBQKBNR w ...</td>\n",
       "      <td>8/8/2p5/8/8/2k5/8/r1K4b w - - 28 67</td>\n",
       "      <td>1.730499e+09</td>\n",
       "      <td>daily</td>\n",
       "      <td>chess</td>\n",
       "      <td>{'rating': 2725, 'result': 'checkmated', '@id'...</td>\n",
       "      <td>{'rating': 2769, 'result': 'win', '@id': 'http...</td>\n",
       "      <td>https://www.chess.com/openings/Four-Knights-Ga...</td>\n",
       "      <td>NaN</td>\n",
       "      <td>capablanca-BOT</td>\n",
       "      <td>Hikaru</td>\n",
       "      <td>black</td>\n",
       "    </tr>\n",
       "    <tr>\n",
       "      <th>1</th>\n",
       "      <td>https://www.chess.com/game/live/124302530065</td>\n",
       "      <td>[Event \"Live Chess\"]\\n[Site \"Chess.com\"]\\n[Dat...</td>\n",
       "      <td>60</td>\n",
       "      <td>1730563543</td>\n",
       "      <td>True</td>\n",
       "      <td>jr0KcjZRmu5Qgv!TlBKBvB90fm8!eg6ZkA98mv09bs45BQ...</td>\n",
       "      <td>067a6bf4-9934-11ef-9df8-6cfe544c0428</td>\n",
       "      <td></td>\n",
       "      <td>8/5pbk/3p1p2/2p2P1P/2P1q1K1/6P1/8/7q w - -</td>\n",
       "      <td>NaN</td>\n",
       "      <td>bullet</td>\n",
       "      <td>chess</td>\n",
       "      <td>{'rating': 3248, 'result': 'checkmated', '@id'...</td>\n",
       "      <td>{'rating': 2565, 'result': 'win', '@id': 'http...</td>\n",
       "      <td>https://www.chess.com/openings/Nimzowitsch-Lar...</td>\n",
       "      <td>{'white': 78.48, 'black': 83.29}</td>\n",
       "      <td>Hikaru</td>\n",
       "      <td>meoluoi91</td>\n",
       "      <td>white</td>\n",
       "    </tr>\n",
       "  </tbody>\n",
       "</table>\n",
       "</div>"
      ],
      "text/plain": [
       "                                            url  \\\n",
       "0    https://www.chess.com/game/daily/175903249   \n",
       "1  https://www.chess.com/game/live/124302530065   \n",
       "\n",
       "                                                 pgn time_control    end_time  \\\n",
       "0  [Event \"Play vs Bot\"]\\n[Site \"Chess.com\"]\\n[Da...          1/0  1730501016   \n",
       "1  [Event \"Live Chess\"]\\n[Site \"Chess.com\"]\\n[Dat...           60  1730563543   \n",
       "\n",
       "   rated                                                tcn  \\\n",
       "0  False  mC0Kgv5QlBKBvB!Tbs9zBQXQdm8!CK98cuzsjs8KowTJfo...   \n",
       "1   True  jr0KcjZRmu5Qgv!TlBKBvB90fm8!eg6ZkA98mv09bs45BQ...   \n",
       "\n",
       "                                   uuid  \\\n",
       "0  bb592aee-98a2-11ef-b248-1724ad6b12c6   \n",
       "1  067a6bf4-9934-11ef-9df8-6cfe544c0428   \n",
       "\n",
       "                                       initial_setup  \\\n",
       "0  rnbqkbnr/pppppppp/8/8/8/8/PPPPPPPP/RNBQKBNR w ...   \n",
       "1                                                      \n",
       "\n",
       "                                          fen    start_time time_class  rules  \\\n",
       "0         8/8/2p5/8/8/2k5/8/r1K4b w - - 28 67  1.730499e+09      daily  chess   \n",
       "1  8/5pbk/3p1p2/2p2P1P/2P1q1K1/6P1/8/7q w - -           NaN     bullet  chess   \n",
       "\n",
       "                                               white  \\\n",
       "0  {'rating': 2725, 'result': 'checkmated', '@id'...   \n",
       "1  {'rating': 3248, 'result': 'checkmated', '@id'...   \n",
       "\n",
       "                                               black  \\\n",
       "0  {'rating': 2769, 'result': 'win', '@id': 'http...   \n",
       "1  {'rating': 2565, 'result': 'win', '@id': 'http...   \n",
       "\n",
       "                                                 eco  \\\n",
       "0  https://www.chess.com/openings/Four-Knights-Ga...   \n",
       "1  https://www.chess.com/openings/Nimzowitsch-Lar...   \n",
       "\n",
       "                         accuracies      white_user black_user  color  \n",
       "0                               NaN  capablanca-BOT     Hikaru  black  \n",
       "1  {'white': 78.48, 'black': 83.29}          Hikaru  meoluoi91  white  "
      ]
     },
     "execution_count": 39,
     "metadata": {},
     "output_type": "execute_result"
    }
   ],
   "source": [
    "df.head(2)"
   ]
  },
  {
   "cell_type": "code",
   "execution_count": 45,
   "metadata": {},
   "outputs": [
    {
     "name": "stdout",
     "output_type": "stream",
     "text": [
      "[Event \"Play vs Bot\"]\n",
      "[Site \"Chess.com\"]\n",
      "[Date \"2024.11.01\"]\n",
      "[Round \"-\"]\n",
      "[White \"capablanca-BOT\"]\n",
      "[Black \"Hikaru\"]\n",
      "[Result \"0-1\"]\n",
      "[CurrentPosition \"8/8/2p5/8/8/2k5/8/r1K4b w - - 28 67\"]\n",
      "[Timezone \"UTC\"]\n",
      "[ECO \"C47\"]\n",
      "[ECOUrl \"https://www.chess.com/openings/Four-Knights-Game-Scotch-Variation-Accepted-5.Nxd4-Bb4-6.Nxc6-bxc6\"]\n",
      "[UTCDate \"2024.11.01\"]\n",
      "[UTCTime \"22:08:04\"]\n",
      "[WhiteElo \"2725\"]\n",
      "[BlackElo \"2769\"]\n",
      "[TimeControl \"1/0\"]\n",
      "[Termination \"Hikaru won by checkmate\"]\n",
      "[StartTime \"22:08:04\"]\n",
      "[EndDate \"2024.11.01\"]\n",
      "[EndTime \"22:43:36\"]\n",
      "[Link \"https://www.chess.com/game/computer/175903249\"]\n",
      "\n",
      "1. e4 e5 2. Nf3 Nc6 3. d4 exd4 4. Nxd4 Nf6 5. Nc3 Bb4 6. Nxc6 bxc6 7. Qe2 O-O 8. e5 Re8 9. Be3 Bxc3+ 10. bxc3 Rxe5 11. g3 Nd5 12. Bg2 Nxe3 13. fxe3 a5 14. O-O Ba6 15. c4 Qe7 16. Rfe1 d5 17. Rab1 Bxc4 18. Qd2 a4 19. Rb4 Bb5 20. Qc3 Re8 21. e4 f5 22. Bf1 dxe4 23. Reb1 Qc5+ 24. Qxc5 Rxc5 25. c4 Ba6 26. Rxa4 Bc8 27. Rb8 Bd7 28. Rxe8+ Bxe8 29. Ra7 g5 30. a4 Bf7 31. Rxc7 Bxc4 32. Kf2 e3+ 33. Ke1 Bd5 34. Kd1 f4 35. gxf4 gxf4 36. Bd3 f3 37. Rb7 e2+ 38. Kd2 Rc1 39. Bxe2 fxe2 40. Kxe2 Rc2+ 41. Ke3 Rxh2 42. Rb4 Ra2 43. Kd4 Kf7 44. Kc5 h5 45. Rd4 Kg6 46. Rb4 Kg5 47. Kb6 h4 48. a5 h3 49. a6 h2 50. Rb1 h1=Q 51. Rxh1 Bxh1 52. Kc5 Rxa6 53. Kc4 Rb6 54. Kd4 Rb5 55. Kd3 Rb4 56. Kc3 Re4 57. Kd2 Kf5 58. Kc3 Ke5 59. Kc2 Kd4 60. Kb3 Kc5 61. Ka3 Rb4 62. Ka2 Kc4 63. Ka3 Kc3 64. Ka2 Ra4+ 65. Kb1 Ra3 66. Kc1 Ra1# 0-1\n",
      "\n"
     ]
    }
   ],
   "source": [
    "print(df.iloc[0,:].pgn)"
   ]
  },
  {
   "cell_type": "code",
   "execution_count": 47,
   "metadata": {},
   "outputs": [
    {
     "data": {
      "text/plain": [
       "['0-1']"
      ]
     },
     "execution_count": 47,
     "metadata": {},
     "output_type": "execute_result"
    }
   ],
   "source": [
    "import re\n",
    "re.findall(r'\\[Result \"(0-1)\"\\]',df.iloc[0,:].pgn)"
   ]
  },
  {
   "cell_type": "code",
   "execution_count": 51,
   "metadata": {},
   "outputs": [],
   "source": [
    "# new column for result\n",
    "\n",
    "df['raw_result'] = df.pgn.str.extract(r'\\[Result \"(.*)\"\\]')"
   ]
  },
  {
   "cell_type": "code",
   "execution_count": 52,
   "metadata": {},
   "outputs": [
    {
     "data": {
      "text/html": [
       "<div>\n",
       "<style scoped>\n",
       "    .dataframe tbody tr th:only-of-type {\n",
       "        vertical-align: middle;\n",
       "    }\n",
       "\n",
       "    .dataframe tbody tr th {\n",
       "        vertical-align: top;\n",
       "    }\n",
       "\n",
       "    .dataframe thead th {\n",
       "        text-align: right;\n",
       "    }\n",
       "</style>\n",
       "<table border=\"1\" class=\"dataframe\">\n",
       "  <thead>\n",
       "    <tr style=\"text-align: right;\">\n",
       "      <th></th>\n",
       "      <th>url</th>\n",
       "      <th>pgn</th>\n",
       "      <th>time_control</th>\n",
       "      <th>end_time</th>\n",
       "      <th>rated</th>\n",
       "      <th>tcn</th>\n",
       "      <th>uuid</th>\n",
       "      <th>initial_setup</th>\n",
       "      <th>fen</th>\n",
       "      <th>start_time</th>\n",
       "      <th>time_class</th>\n",
       "      <th>rules</th>\n",
       "      <th>white</th>\n",
       "      <th>black</th>\n",
       "      <th>eco</th>\n",
       "      <th>accuracies</th>\n",
       "      <th>white_user</th>\n",
       "      <th>black_user</th>\n",
       "      <th>color</th>\n",
       "      <th>raw_result</th>\n",
       "    </tr>\n",
       "  </thead>\n",
       "  <tbody>\n",
       "    <tr>\n",
       "      <th>0</th>\n",
       "      <td>https://www.chess.com/game/daily/175903249</td>\n",
       "      <td>[Event \"Play vs Bot\"]\\n[Site \"Chess.com\"]\\n[Da...</td>\n",
       "      <td>1/0</td>\n",
       "      <td>1730501016</td>\n",
       "      <td>False</td>\n",
       "      <td>mC0Kgv5QlBKBvB!Tbs9zBQXQdm8!CK98cuzsjs8KowTJfo...</td>\n",
       "      <td>bb592aee-98a2-11ef-b248-1724ad6b12c6</td>\n",
       "      <td>rnbqkbnr/pppppppp/8/8/8/8/PPPPPPPP/RNBQKBNR w ...</td>\n",
       "      <td>8/8/2p5/8/8/2k5/8/r1K4b w - - 28 67</td>\n",
       "      <td>1.730499e+09</td>\n",
       "      <td>daily</td>\n",
       "      <td>chess</td>\n",
       "      <td>{'rating': 2725, 'result': 'checkmated', '@id'...</td>\n",
       "      <td>{'rating': 2769, 'result': 'win', '@id': 'http...</td>\n",
       "      <td>https://www.chess.com/openings/Four-Knights-Ga...</td>\n",
       "      <td>NaN</td>\n",
       "      <td>capablanca-BOT</td>\n",
       "      <td>Hikaru</td>\n",
       "      <td>black</td>\n",
       "      <td>0-1</td>\n",
       "    </tr>\n",
       "    <tr>\n",
       "      <th>1</th>\n",
       "      <td>https://www.chess.com/game/live/124302530065</td>\n",
       "      <td>[Event \"Live Chess\"]\\n[Site \"Chess.com\"]\\n[Dat...</td>\n",
       "      <td>60</td>\n",
       "      <td>1730563543</td>\n",
       "      <td>True</td>\n",
       "      <td>jr0KcjZRmu5Qgv!TlBKBvB90fm8!eg6ZkA98mv09bs45BQ...</td>\n",
       "      <td>067a6bf4-9934-11ef-9df8-6cfe544c0428</td>\n",
       "      <td></td>\n",
       "      <td>8/5pbk/3p1p2/2p2P1P/2P1q1K1/6P1/8/7q w - -</td>\n",
       "      <td>NaN</td>\n",
       "      <td>bullet</td>\n",
       "      <td>chess</td>\n",
       "      <td>{'rating': 3248, 'result': 'checkmated', '@id'...</td>\n",
       "      <td>{'rating': 2565, 'result': 'win', '@id': 'http...</td>\n",
       "      <td>https://www.chess.com/openings/Nimzowitsch-Lar...</td>\n",
       "      <td>{'white': 78.48, 'black': 83.29}</td>\n",
       "      <td>Hikaru</td>\n",
       "      <td>meoluoi91</td>\n",
       "      <td>white</td>\n",
       "      <td>0-1</td>\n",
       "    </tr>\n",
       "  </tbody>\n",
       "</table>\n",
       "</div>"
      ],
      "text/plain": [
       "                                            url  \\\n",
       "0    https://www.chess.com/game/daily/175903249   \n",
       "1  https://www.chess.com/game/live/124302530065   \n",
       "\n",
       "                                                 pgn time_control    end_time  \\\n",
       "0  [Event \"Play vs Bot\"]\\n[Site \"Chess.com\"]\\n[Da...          1/0  1730501016   \n",
       "1  [Event \"Live Chess\"]\\n[Site \"Chess.com\"]\\n[Dat...           60  1730563543   \n",
       "\n",
       "   rated                                                tcn  \\\n",
       "0  False  mC0Kgv5QlBKBvB!Tbs9zBQXQdm8!CK98cuzsjs8KowTJfo...   \n",
       "1   True  jr0KcjZRmu5Qgv!TlBKBvB90fm8!eg6ZkA98mv09bs45BQ...   \n",
       "\n",
       "                                   uuid  \\\n",
       "0  bb592aee-98a2-11ef-b248-1724ad6b12c6   \n",
       "1  067a6bf4-9934-11ef-9df8-6cfe544c0428   \n",
       "\n",
       "                                       initial_setup  \\\n",
       "0  rnbqkbnr/pppppppp/8/8/8/8/PPPPPPPP/RNBQKBNR w ...   \n",
       "1                                                      \n",
       "\n",
       "                                          fen    start_time time_class  rules  \\\n",
       "0         8/8/2p5/8/8/2k5/8/r1K4b w - - 28 67  1.730499e+09      daily  chess   \n",
       "1  8/5pbk/3p1p2/2p2P1P/2P1q1K1/6P1/8/7q w - -           NaN     bullet  chess   \n",
       "\n",
       "                                               white  \\\n",
       "0  {'rating': 2725, 'result': 'checkmated', '@id'...   \n",
       "1  {'rating': 3248, 'result': 'checkmated', '@id'...   \n",
       "\n",
       "                                               black  \\\n",
       "0  {'rating': 2769, 'result': 'win', '@id': 'http...   \n",
       "1  {'rating': 2565, 'result': 'win', '@id': 'http...   \n",
       "\n",
       "                                                 eco  \\\n",
       "0  https://www.chess.com/openings/Four-Knights-Ga...   \n",
       "1  https://www.chess.com/openings/Nimzowitsch-Lar...   \n",
       "\n",
       "                         accuracies      white_user black_user  color  \\\n",
       "0                               NaN  capablanca-BOT     Hikaru  black   \n",
       "1  {'white': 78.48, 'black': 83.29}          Hikaru  meoluoi91  white   \n",
       "\n",
       "  raw_result  \n",
       "0        0-1  \n",
       "1        0-1  "
      ]
     },
     "execution_count": 52,
     "metadata": {},
     "output_type": "execute_result"
    }
   ],
   "source": [
    "df.head(2)"
   ]
  },
  {
   "cell_type": "code",
   "execution_count": 53,
   "metadata": {},
   "outputs": [
    {
     "data": {
      "text/plain": [
       "array(['0-1', '1-0', '1/2-1/2'], dtype=object)"
      ]
     },
     "execution_count": 53,
     "metadata": {},
     "output_type": "execute_result"
    }
   ],
   "source": [
    "df.raw_result.unique()"
   ]
  },
  {
   "cell_type": "code",
   "execution_count": null,
   "metadata": {},
   "outputs": [],
   "source": [
    "def get_result(row):\n",
    "    if row.raw_result == '1/2-1/2':\n",
    "        return 'draw'  \n",
    "    elif (row.raw_result=='1-0' and row.color=='white') or (row.raw_result == '0-1' and row.color == 'black'):\n",
    "        return 'win'\n",
    "    else:\n",
    "        return 'loss'"
   ]
  },
  {
   "cell_type": "code",
   "execution_count": null,
   "metadata": {},
   "outputs": [
    {
     "ename": "AttributeError",
     "evalue": "'Series' object has no attribute 'raw_result'",
     "output_type": "error",
     "traceback": [
      "\u001b[1;31m---------------------------------------------------------------------------\u001b[0m",
      "\u001b[1;31mAttributeError\u001b[0m                            Traceback (most recent call last)",
      "\u001b[1;32m~\\AppData\\Local\\Temp\\ipykernel_23480\\3455287320.py\u001b[0m in \u001b[0;36m?\u001b[1;34m()\u001b[0m\n\u001b[1;32m----> 1\u001b[1;33m \u001b[0mdf\u001b[0m\u001b[1;33m[\u001b[0m\u001b[1;34m'result'\u001b[0m\u001b[1;33m]\u001b[0m \u001b[1;33m=\u001b[0m \u001b[0mdf\u001b[0m\u001b[1;33m.\u001b[0m\u001b[0mapply\u001b[0m\u001b[1;33m(\u001b[0m\u001b[1;32mlambda\u001b[0m \u001b[0mrow\u001b[0m\u001b[1;33m:\u001b[0m \u001b[1;34m'draw'\u001b[0m \u001b[1;32mif\u001b[0m \u001b[0mrow\u001b[0m\u001b[1;33m.\u001b[0m\u001b[0mraw_result\u001b[0m \u001b[1;33m==\u001b[0m \u001b[1;34m'1/2-1/2'\u001b[0m \u001b[1;32melse\u001b[0m \u001b[1;33m(\u001b[0m\u001b[1;34m'win'\u001b[0m \u001b[1;32mif\u001b[0m \u001b[0mrow\u001b[0m\u001b[1;33m.\u001b[0m\u001b[0mraw_result\u001b[0m\u001b[1;33m==\u001b[0m\u001b[1;34m'1-0'\u001b[0m \u001b[1;32mand\u001b[0m \u001b[0mrow\u001b[0m\u001b[1;33m.\u001b[0m\u001b[0mcolor\u001b[0m\u001b[1;33m==\u001b[0m\u001b[1;34m'white'\u001b[0m \u001b[1;32melse\u001b[0m \u001b[1;33m(\u001b[0m \u001b[1;34m'win'\u001b[0m \u001b[1;32mif\u001b[0m \u001b[0mrow\u001b[0m\u001b[1;33m.\u001b[0m\u001b[0mraw_result\u001b[0m \u001b[1;33m==\u001b[0m \u001b[1;34m'0-1'\u001b[0m \u001b[1;32mand\u001b[0m \u001b[0mrow\u001b[0m\u001b[1;33m.\u001b[0m\u001b[0mcolor\u001b[0m \u001b[1;33m==\u001b[0m \u001b[1;34m'black'\u001b[0m \u001b[1;32melse\u001b[0m \u001b[1;34m'loss'\u001b[0m\u001b[1;33m)\u001b[0m\u001b[1;33m)\u001b[0m\u001b[1;33m)\u001b[0m\u001b[1;33m\u001b[0m\u001b[1;33m\u001b[0m\u001b[0m\n\u001b[0m",
      "\u001b[1;32mc:\\Users\\Andrew\\miniconda3\\Lib\\site-packages\\pandas\\core\\frame.py\u001b[0m in \u001b[0;36m?\u001b[1;34m(self, func, axis, raw, result_type, args, by_row, engine, engine_kwargs, **kwargs)\u001b[0m\n\u001b[0;32m  10370\u001b[0m             \u001b[0mengine_kwargs\u001b[0m\u001b[1;33m=\u001b[0m\u001b[0mengine_kwargs\u001b[0m\u001b[1;33m,\u001b[0m\u001b[1;33m\u001b[0m\u001b[1;33m\u001b[0m\u001b[0m\n\u001b[0;32m  10371\u001b[0m             \u001b[0margs\u001b[0m\u001b[1;33m=\u001b[0m\u001b[0margs\u001b[0m\u001b[1;33m,\u001b[0m\u001b[1;33m\u001b[0m\u001b[1;33m\u001b[0m\u001b[0m\n\u001b[0;32m  10372\u001b[0m             \u001b[0mkwargs\u001b[0m\u001b[1;33m=\u001b[0m\u001b[0mkwargs\u001b[0m\u001b[1;33m,\u001b[0m\u001b[1;33m\u001b[0m\u001b[1;33m\u001b[0m\u001b[0m\n\u001b[0;32m  10373\u001b[0m         \u001b[1;33m)\u001b[0m\u001b[1;33m\u001b[0m\u001b[1;33m\u001b[0m\u001b[0m\n\u001b[1;32m> 10374\u001b[1;33m         \u001b[1;32mreturn\u001b[0m \u001b[0mop\u001b[0m\u001b[1;33m.\u001b[0m\u001b[0mapply\u001b[0m\u001b[1;33m(\u001b[0m\u001b[1;33m)\u001b[0m\u001b[1;33m.\u001b[0m\u001b[0m__finalize__\u001b[0m\u001b[1;33m(\u001b[0m\u001b[0mself\u001b[0m\u001b[1;33m,\u001b[0m \u001b[0mmethod\u001b[0m\u001b[1;33m=\u001b[0m\u001b[1;34m\"apply\"\u001b[0m\u001b[1;33m)\u001b[0m\u001b[1;33m\u001b[0m\u001b[1;33m\u001b[0m\u001b[0m\n\u001b[0m",
      "\u001b[1;32mc:\\Users\\Andrew\\miniconda3\\Lib\\site-packages\\pandas\\core\\apply.py\u001b[0m in \u001b[0;36m?\u001b[1;34m(self)\u001b[0m\n\u001b[0;32m    912\u001b[0m         \u001b[1;31m# raw\u001b[0m\u001b[1;33m\u001b[0m\u001b[1;33m\u001b[0m\u001b[0m\n\u001b[0;32m    913\u001b[0m         \u001b[1;32melif\u001b[0m \u001b[0mself\u001b[0m\u001b[1;33m.\u001b[0m\u001b[0mraw\u001b[0m\u001b[1;33m:\u001b[0m\u001b[1;33m\u001b[0m\u001b[1;33m\u001b[0m\u001b[0m\n\u001b[0;32m    914\u001b[0m             \u001b[1;32mreturn\u001b[0m \u001b[0mself\u001b[0m\u001b[1;33m.\u001b[0m\u001b[0mapply_raw\u001b[0m\u001b[1;33m(\u001b[0m\u001b[0mengine\u001b[0m\u001b[1;33m=\u001b[0m\u001b[0mself\u001b[0m\u001b[1;33m.\u001b[0m\u001b[0mengine\u001b[0m\u001b[1;33m,\u001b[0m \u001b[0mengine_kwargs\u001b[0m\u001b[1;33m=\u001b[0m\u001b[0mself\u001b[0m\u001b[1;33m.\u001b[0m\u001b[0mengine_kwargs\u001b[0m\u001b[1;33m)\u001b[0m\u001b[1;33m\u001b[0m\u001b[1;33m\u001b[0m\u001b[0m\n\u001b[0;32m    915\u001b[0m \u001b[1;33m\u001b[0m\u001b[0m\n\u001b[1;32m--> 916\u001b[1;33m         \u001b[1;32mreturn\u001b[0m \u001b[0mself\u001b[0m\u001b[1;33m.\u001b[0m\u001b[0mapply_standard\u001b[0m\u001b[1;33m(\u001b[0m\u001b[1;33m)\u001b[0m\u001b[1;33m\u001b[0m\u001b[1;33m\u001b[0m\u001b[0m\n\u001b[0m",
      "\u001b[1;32mc:\\Users\\Andrew\\miniconda3\\Lib\\site-packages\\pandas\\core\\apply.py\u001b[0m in \u001b[0;36m?\u001b[1;34m(self)\u001b[0m\n\u001b[0;32m   1061\u001b[0m     \u001b[1;32mdef\u001b[0m \u001b[0mapply_standard\u001b[0m\u001b[1;33m(\u001b[0m\u001b[0mself\u001b[0m\u001b[1;33m)\u001b[0m\u001b[1;33m:\u001b[0m\u001b[1;33m\u001b[0m\u001b[1;33m\u001b[0m\u001b[0m\n\u001b[0;32m   1062\u001b[0m         \u001b[1;32mif\u001b[0m \u001b[0mself\u001b[0m\u001b[1;33m.\u001b[0m\u001b[0mengine\u001b[0m \u001b[1;33m==\u001b[0m \u001b[1;34m\"python\"\u001b[0m\u001b[1;33m:\u001b[0m\u001b[1;33m\u001b[0m\u001b[1;33m\u001b[0m\u001b[0m\n\u001b[1;32m-> 1063\u001b[1;33m             \u001b[0mresults\u001b[0m\u001b[1;33m,\u001b[0m \u001b[0mres_index\u001b[0m \u001b[1;33m=\u001b[0m \u001b[0mself\u001b[0m\u001b[1;33m.\u001b[0m\u001b[0mapply_series_generator\u001b[0m\u001b[1;33m(\u001b[0m\u001b[1;33m)\u001b[0m\u001b[1;33m\u001b[0m\u001b[1;33m\u001b[0m\u001b[0m\n\u001b[0m\u001b[0;32m   1064\u001b[0m         \u001b[1;32melse\u001b[0m\u001b[1;33m:\u001b[0m\u001b[1;33m\u001b[0m\u001b[1;33m\u001b[0m\u001b[0m\n\u001b[0;32m   1065\u001b[0m             \u001b[0mresults\u001b[0m\u001b[1;33m,\u001b[0m \u001b[0mres_index\u001b[0m \u001b[1;33m=\u001b[0m \u001b[0mself\u001b[0m\u001b[1;33m.\u001b[0m\u001b[0mapply_series_numba\u001b[0m\u001b[1;33m(\u001b[0m\u001b[1;33m)\u001b[0m\u001b[1;33m\u001b[0m\u001b[1;33m\u001b[0m\u001b[0m\n\u001b[0;32m   1066\u001b[0m \u001b[1;33m\u001b[0m\u001b[0m\n",
      "\u001b[1;32mc:\\Users\\Andrew\\miniconda3\\Lib\\site-packages\\pandas\\core\\apply.py\u001b[0m in \u001b[0;36m?\u001b[1;34m(self)\u001b[0m\n\u001b[0;32m   1077\u001b[0m \u001b[1;33m\u001b[0m\u001b[0m\n\u001b[0;32m   1078\u001b[0m         \u001b[1;32mwith\u001b[0m \u001b[0moption_context\u001b[0m\u001b[1;33m(\u001b[0m\u001b[1;34m\"mode.chained_assignment\"\u001b[0m\u001b[1;33m,\u001b[0m \u001b[1;32mNone\u001b[0m\u001b[1;33m)\u001b[0m\u001b[1;33m:\u001b[0m\u001b[1;33m\u001b[0m\u001b[1;33m\u001b[0m\u001b[0m\n\u001b[0;32m   1079\u001b[0m             \u001b[1;32mfor\u001b[0m \u001b[0mi\u001b[0m\u001b[1;33m,\u001b[0m \u001b[0mv\u001b[0m \u001b[1;32min\u001b[0m \u001b[0menumerate\u001b[0m\u001b[1;33m(\u001b[0m\u001b[0mseries_gen\u001b[0m\u001b[1;33m)\u001b[0m\u001b[1;33m:\u001b[0m\u001b[1;33m\u001b[0m\u001b[1;33m\u001b[0m\u001b[0m\n\u001b[0;32m   1080\u001b[0m                 \u001b[1;31m# ignore SettingWithCopy here in case the user mutates\u001b[0m\u001b[1;33m\u001b[0m\u001b[1;33m\u001b[0m\u001b[0m\n\u001b[1;32m-> 1081\u001b[1;33m                 \u001b[0mresults\u001b[0m\u001b[1;33m[\u001b[0m\u001b[0mi\u001b[0m\u001b[1;33m]\u001b[0m \u001b[1;33m=\u001b[0m \u001b[0mself\u001b[0m\u001b[1;33m.\u001b[0m\u001b[0mfunc\u001b[0m\u001b[1;33m(\u001b[0m\u001b[0mv\u001b[0m\u001b[1;33m,\u001b[0m \u001b[1;33m*\u001b[0m\u001b[0mself\u001b[0m\u001b[1;33m.\u001b[0m\u001b[0margs\u001b[0m\u001b[1;33m,\u001b[0m \u001b[1;33m**\u001b[0m\u001b[0mself\u001b[0m\u001b[1;33m.\u001b[0m\u001b[0mkwargs\u001b[0m\u001b[1;33m)\u001b[0m\u001b[1;33m\u001b[0m\u001b[1;33m\u001b[0m\u001b[0m\n\u001b[0m\u001b[0;32m   1082\u001b[0m                 \u001b[1;32mif\u001b[0m \u001b[0misinstance\u001b[0m\u001b[1;33m(\u001b[0m\u001b[0mresults\u001b[0m\u001b[1;33m[\u001b[0m\u001b[0mi\u001b[0m\u001b[1;33m]\u001b[0m\u001b[1;33m,\u001b[0m \u001b[0mABCSeries\u001b[0m\u001b[1;33m)\u001b[0m\u001b[1;33m:\u001b[0m\u001b[1;33m\u001b[0m\u001b[1;33m\u001b[0m\u001b[0m\n\u001b[0;32m   1083\u001b[0m                     \u001b[1;31m# If we have a view on v, we need to make a copy because\u001b[0m\u001b[1;33m\u001b[0m\u001b[1;33m\u001b[0m\u001b[0m\n\u001b[0;32m   1084\u001b[0m                     \u001b[1;31m#  series_generator will swap out the underlying data\u001b[0m\u001b[1;33m\u001b[0m\u001b[1;33m\u001b[0m\u001b[0m\n",
      "\u001b[1;32m~\\AppData\\Local\\Temp\\ipykernel_23480\\3455287320.py\u001b[0m in \u001b[0;36m?\u001b[1;34m(row)\u001b[0m\n\u001b[1;32m----> 1\u001b[1;33m \u001b[0mdf\u001b[0m\u001b[1;33m[\u001b[0m\u001b[1;34m'result'\u001b[0m\u001b[1;33m]\u001b[0m \u001b[1;33m=\u001b[0m \u001b[0mdf\u001b[0m\u001b[1;33m.\u001b[0m\u001b[0mapply\u001b[0m\u001b[1;33m(\u001b[0m\u001b[1;32mlambda\u001b[0m \u001b[0mrow\u001b[0m\u001b[1;33m:\u001b[0m \u001b[1;34m'draw'\u001b[0m \u001b[1;32mif\u001b[0m \u001b[0mrow\u001b[0m\u001b[1;33m.\u001b[0m\u001b[0mraw_result\u001b[0m \u001b[1;33m==\u001b[0m \u001b[1;34m'1/2-1/2'\u001b[0m \u001b[1;32melse\u001b[0m \u001b[1;33m(\u001b[0m\u001b[1;34m'win'\u001b[0m \u001b[1;32mif\u001b[0m \u001b[0mrow\u001b[0m\u001b[1;33m.\u001b[0m\u001b[0mraw_result\u001b[0m\u001b[1;33m==\u001b[0m\u001b[1;34m'1-0'\u001b[0m \u001b[1;32mand\u001b[0m \u001b[0mrow\u001b[0m\u001b[1;33m.\u001b[0m\u001b[0mcolor\u001b[0m\u001b[1;33m==\u001b[0m\u001b[1;34m'white'\u001b[0m \u001b[1;32melse\u001b[0m \u001b[1;33m(\u001b[0m \u001b[1;34m'win'\u001b[0m \u001b[1;32mif\u001b[0m \u001b[0mrow\u001b[0m\u001b[1;33m.\u001b[0m\u001b[0mraw_result\u001b[0m \u001b[1;33m==\u001b[0m \u001b[1;34m'0-1'\u001b[0m \u001b[1;32mand\u001b[0m \u001b[0mrow\u001b[0m\u001b[1;33m.\u001b[0m\u001b[0mcolor\u001b[0m \u001b[1;33m==\u001b[0m \u001b[1;34m'black'\u001b[0m \u001b[1;32melse\u001b[0m \u001b[1;34m'loss'\u001b[0m\u001b[1;33m)\u001b[0m\u001b[1;33m)\u001b[0m\u001b[1;33m)\u001b[0m\u001b[1;33m\u001b[0m\u001b[1;33m\u001b[0m\u001b[0m\n\u001b[0m",
      "\u001b[1;32mc:\\Users\\Andrew\\miniconda3\\Lib\\site-packages\\pandas\\core\\generic.py\u001b[0m in \u001b[0;36m?\u001b[1;34m(self, name)\u001b[0m\n\u001b[0;32m   6295\u001b[0m             \u001b[1;32mand\u001b[0m \u001b[0mname\u001b[0m \u001b[1;32mnot\u001b[0m \u001b[1;32min\u001b[0m \u001b[0mself\u001b[0m\u001b[1;33m.\u001b[0m\u001b[0m_accessors\u001b[0m\u001b[1;33m\u001b[0m\u001b[1;33m\u001b[0m\u001b[0m\n\u001b[0;32m   6296\u001b[0m             \u001b[1;32mand\u001b[0m \u001b[0mself\u001b[0m\u001b[1;33m.\u001b[0m\u001b[0m_info_axis\u001b[0m\u001b[1;33m.\u001b[0m\u001b[0m_can_hold_identifiers_and_holds_name\u001b[0m\u001b[1;33m(\u001b[0m\u001b[0mname\u001b[0m\u001b[1;33m)\u001b[0m\u001b[1;33m\u001b[0m\u001b[1;33m\u001b[0m\u001b[0m\n\u001b[0;32m   6297\u001b[0m         \u001b[1;33m)\u001b[0m\u001b[1;33m:\u001b[0m\u001b[1;33m\u001b[0m\u001b[1;33m\u001b[0m\u001b[0m\n\u001b[0;32m   6298\u001b[0m             \u001b[1;32mreturn\u001b[0m \u001b[0mself\u001b[0m\u001b[1;33m[\u001b[0m\u001b[0mname\u001b[0m\u001b[1;33m]\u001b[0m\u001b[1;33m\u001b[0m\u001b[1;33m\u001b[0m\u001b[0m\n\u001b[1;32m-> 6299\u001b[1;33m         \u001b[1;32mreturn\u001b[0m \u001b[0mobject\u001b[0m\u001b[1;33m.\u001b[0m\u001b[0m__getattribute__\u001b[0m\u001b[1;33m(\u001b[0m\u001b[0mself\u001b[0m\u001b[1;33m,\u001b[0m \u001b[0mname\u001b[0m\u001b[1;33m)\u001b[0m\u001b[1;33m\u001b[0m\u001b[1;33m\u001b[0m\u001b[0m\n\u001b[0m",
      "\u001b[1;31mAttributeError\u001b[0m: 'Series' object has no attribute 'raw_result'"
     ]
    }
   ],
   "source": [
    "df['result'] = df.apply()"
   ]
  },
  {
   "cell_type": "code",
   "execution_count": 55,
   "metadata": {},
   "outputs": [
    {
     "data": {
      "text/html": [
       "<div>\n",
       "<style scoped>\n",
       "    .dataframe tbody tr th:only-of-type {\n",
       "        vertical-align: middle;\n",
       "    }\n",
       "\n",
       "    .dataframe tbody tr th {\n",
       "        vertical-align: top;\n",
       "    }\n",
       "\n",
       "    .dataframe thead th {\n",
       "        text-align: right;\n",
       "    }\n",
       "</style>\n",
       "<table border=\"1\" class=\"dataframe\">\n",
       "  <thead>\n",
       "    <tr style=\"text-align: right;\">\n",
       "      <th></th>\n",
       "      <th>url</th>\n",
       "      <th>pgn</th>\n",
       "      <th>time_control</th>\n",
       "      <th>end_time</th>\n",
       "      <th>rated</th>\n",
       "      <th>tcn</th>\n",
       "      <th>uuid</th>\n",
       "      <th>initial_setup</th>\n",
       "      <th>fen</th>\n",
       "      <th>start_time</th>\n",
       "      <th>...</th>\n",
       "      <th>rules</th>\n",
       "      <th>white</th>\n",
       "      <th>black</th>\n",
       "      <th>eco</th>\n",
       "      <th>accuracies</th>\n",
       "      <th>white_user</th>\n",
       "      <th>black_user</th>\n",
       "      <th>color</th>\n",
       "      <th>raw_result</th>\n",
       "      <th>result</th>\n",
       "    </tr>\n",
       "  </thead>\n",
       "  <tbody>\n",
       "    <tr>\n",
       "      <th>0</th>\n",
       "      <td>https://www.chess.com/game/daily/175903249</td>\n",
       "      <td>[Event \"Play vs Bot\"]\\n[Site \"Chess.com\"]\\n[Da...</td>\n",
       "      <td>1/0</td>\n",
       "      <td>1730501016</td>\n",
       "      <td>False</td>\n",
       "      <td>mC0Kgv5QlBKBvB!Tbs9zBQXQdm8!CK98cuzsjs8KowTJfo...</td>\n",
       "      <td>bb592aee-98a2-11ef-b248-1724ad6b12c6</td>\n",
       "      <td>rnbqkbnr/pppppppp/8/8/8/8/PPPPPPPP/RNBQKBNR w ...</td>\n",
       "      <td>8/8/2p5/8/8/2k5/8/r1K4b w - - 28 67</td>\n",
       "      <td>1.730499e+09</td>\n",
       "      <td>...</td>\n",
       "      <td>chess</td>\n",
       "      <td>{'rating': 2725, 'result': 'checkmated', '@id'...</td>\n",
       "      <td>{'rating': 2769, 'result': 'win', '@id': 'http...</td>\n",
       "      <td>https://www.chess.com/openings/Four-Knights-Ga...</td>\n",
       "      <td>NaN</td>\n",
       "      <td>capablanca-BOT</td>\n",
       "      <td>Hikaru</td>\n",
       "      <td>black</td>\n",
       "      <td>0-1</td>\n",
       "      <td>loss</td>\n",
       "    </tr>\n",
       "    <tr>\n",
       "      <th>1</th>\n",
       "      <td>https://www.chess.com/game/live/124302530065</td>\n",
       "      <td>[Event \"Live Chess\"]\\n[Site \"Chess.com\"]\\n[Dat...</td>\n",
       "      <td>60</td>\n",
       "      <td>1730563543</td>\n",
       "      <td>True</td>\n",
       "      <td>jr0KcjZRmu5Qgv!TlBKBvB90fm8!eg6ZkA98mv09bs45BQ...</td>\n",
       "      <td>067a6bf4-9934-11ef-9df8-6cfe544c0428</td>\n",
       "      <td></td>\n",
       "      <td>8/5pbk/3p1p2/2p2P1P/2P1q1K1/6P1/8/7q w - -</td>\n",
       "      <td>NaN</td>\n",
       "      <td>...</td>\n",
       "      <td>chess</td>\n",
       "      <td>{'rating': 3248, 'result': 'checkmated', '@id'...</td>\n",
       "      <td>{'rating': 2565, 'result': 'win', '@id': 'http...</td>\n",
       "      <td>https://www.chess.com/openings/Nimzowitsch-Lar...</td>\n",
       "      <td>{'white': 78.48, 'black': 83.29}</td>\n",
       "      <td>Hikaru</td>\n",
       "      <td>meoluoi91</td>\n",
       "      <td>white</td>\n",
       "      <td>0-1</td>\n",
       "      <td>loss</td>\n",
       "    </tr>\n",
       "  </tbody>\n",
       "</table>\n",
       "<p>2 rows × 21 columns</p>\n",
       "</div>"
      ],
      "text/plain": [
       "                                            url  \\\n",
       "0    https://www.chess.com/game/daily/175903249   \n",
       "1  https://www.chess.com/game/live/124302530065   \n",
       "\n",
       "                                                 pgn time_control    end_time  \\\n",
       "0  [Event \"Play vs Bot\"]\\n[Site \"Chess.com\"]\\n[Da...          1/0  1730501016   \n",
       "1  [Event \"Live Chess\"]\\n[Site \"Chess.com\"]\\n[Dat...           60  1730563543   \n",
       "\n",
       "   rated                                                tcn  \\\n",
       "0  False  mC0Kgv5QlBKBvB!Tbs9zBQXQdm8!CK98cuzsjs8KowTJfo...   \n",
       "1   True  jr0KcjZRmu5Qgv!TlBKBvB90fm8!eg6ZkA98mv09bs45BQ...   \n",
       "\n",
       "                                   uuid  \\\n",
       "0  bb592aee-98a2-11ef-b248-1724ad6b12c6   \n",
       "1  067a6bf4-9934-11ef-9df8-6cfe544c0428   \n",
       "\n",
       "                                       initial_setup  \\\n",
       "0  rnbqkbnr/pppppppp/8/8/8/8/PPPPPPPP/RNBQKBNR w ...   \n",
       "1                                                      \n",
       "\n",
       "                                          fen    start_time  ...  rules  \\\n",
       "0         8/8/2p5/8/8/2k5/8/r1K4b w - - 28 67  1.730499e+09  ...  chess   \n",
       "1  8/5pbk/3p1p2/2p2P1P/2P1q1K1/6P1/8/7q w - -           NaN  ...  chess   \n",
       "\n",
       "                                               white  \\\n",
       "0  {'rating': 2725, 'result': 'checkmated', '@id'...   \n",
       "1  {'rating': 3248, 'result': 'checkmated', '@id'...   \n",
       "\n",
       "                                               black  \\\n",
       "0  {'rating': 2769, 'result': 'win', '@id': 'http...   \n",
       "1  {'rating': 2565, 'result': 'win', '@id': 'http...   \n",
       "\n",
       "                                                 eco  \\\n",
       "0  https://www.chess.com/openings/Four-Knights-Ga...   \n",
       "1  https://www.chess.com/openings/Nimzowitsch-Lar...   \n",
       "\n",
       "                         accuracies      white_user black_user  color  \\\n",
       "0                               NaN  capablanca-BOT     Hikaru  black   \n",
       "1  {'white': 78.48, 'black': 83.29}          Hikaru  meoluoi91  white   \n",
       "\n",
       "  raw_result result  \n",
       "0        0-1   loss  \n",
       "1        0-1   loss  \n",
       "\n",
       "[2 rows x 21 columns]"
      ]
     },
     "execution_count": 55,
     "metadata": {},
     "output_type": "execute_result"
    }
   ],
   "source": [
    "df.head(2)"
   ]
  },
  {
   "cell_type": "code",
   "execution_count": 58,
   "metadata": {},
   "outputs": [
    {
     "data": {
      "text/plain": [
       "<Axes: xlabel='result'>"
      ]
     },
     "execution_count": 58,
     "metadata": {},
     "output_type": "execute_result"
    },
    {
     "data": {
      "image/png": "[encoded data removed]",
      "text/plain": [
       "<Figure size 640x480 with 1 Axes>"
      ]
     },
     "metadata": {},
     "output_type": "display_data"
    }
   ],
   "source": [
    "df.result.value_counts().plot(kind='bar', color = ['k','r','g'])"
   ]
  },
  {
   "cell_type": "code",
   "execution_count": 62,
   "metadata": {},
   "outputs": [
    {
     "data": {
      "image/png": "[encoded data removed]",
      "text/plain": [
       "<Figure size 640x480 with 1 Axes>"
      ]
     },
     "metadata": {},
     "output_type": "display_data"
    }
   ],
   "source": [
    "winning_color = df.groupby(['color', 'result']).size().plot(kind='bar', color = ['r','g','b','y','k','brown'])"
   ]
  },
  {
   "cell_type": "code",
   "execution_count": 60,
   "metadata": {},
   "outputs": [
    {
     "data": {
      "text/plain": [
       "color  result\n",
       "black  draw       19\n",
       "       loss      294\n",
       "       win        34\n",
       "white  draw       23\n",
       "       loss       22\n",
       "       win       308\n",
       "dtype: int64"
      ]
     },
     "execution_count": 60,
     "metadata": {},
     "output_type": "execute_result"
    }
   ],
   "source": [
    "winning_color"
   ]
  },
  {
   "cell_type": "code",
   "execution_count": 70,
   "metadata": {},
   "outputs": [
    {
     "data": {
      "text/plain": [
       "['Four-Knights-Game-Scotch-Variation-Accepted-']"
      ]
     },
     "execution_count": 70,
     "metadata": {},
     "output_type": "execute_result"
    }
   ],
   "source": [
    "re.findall(r'https://www.chess.com/openings/([A-Za-z-]+)',df.iloc[0,:].eco)"
   ]
  },
  {
   "cell_type": "code",
   "execution_count": 71,
   "metadata": {},
   "outputs": [],
   "source": [
    "# analyze openings\n",
    "df['openings'] = df.eco.str.extract(r'https://www.chess.com/openings/([A-Za-z-]+)')"
   ]
  },
  {
   "cell_type": "code",
   "execution_count": 95,
   "metadata": {},
   "outputs": [],
   "source": [
    "df['openings'] = df['openings'].apply(lambda row : row.strip('-')) # strip the trailing -"
   ]
  },
  {
   "cell_type": "code",
   "execution_count": 96,
   "metadata": {},
   "outputs": [
    {
     "data": {
      "text/html": [
       "<div>\n",
       "<style scoped>\n",
       "    .dataframe tbody tr th:only-of-type {\n",
       "        vertical-align: middle;\n",
       "    }\n",
       "\n",
       "    .dataframe tbody tr th {\n",
       "        vertical-align: top;\n",
       "    }\n",
       "\n",
       "    .dataframe thead th {\n",
       "        text-align: right;\n",
       "    }\n",
       "</style>\n",
       "<table border=\"1\" class=\"dataframe\">\n",
       "  <thead>\n",
       "    <tr style=\"text-align: right;\">\n",
       "      <th></th>\n",
       "      <th>url</th>\n",
       "      <th>pgn</th>\n",
       "      <th>time_control</th>\n",
       "      <th>end_time</th>\n",
       "      <th>rated</th>\n",
       "      <th>tcn</th>\n",
       "      <th>uuid</th>\n",
       "      <th>initial_setup</th>\n",
       "      <th>fen</th>\n",
       "      <th>start_time</th>\n",
       "      <th>...</th>\n",
       "      <th>white</th>\n",
       "      <th>black</th>\n",
       "      <th>eco</th>\n",
       "      <th>accuracies</th>\n",
       "      <th>white_user</th>\n",
       "      <th>black_user</th>\n",
       "      <th>color</th>\n",
       "      <th>raw_result</th>\n",
       "      <th>result</th>\n",
       "      <th>openings</th>\n",
       "    </tr>\n",
       "  </thead>\n",
       "  <tbody>\n",
       "    <tr>\n",
       "      <th>0</th>\n",
       "      <td>https://www.chess.com/game/daily/175903249</td>\n",
       "      <td>[Event \"Play vs Bot\"]\\n[Site \"Chess.com\"]\\n[Da...</td>\n",
       "      <td>1/0</td>\n",
       "      <td>1730501016</td>\n",
       "      <td>False</td>\n",
       "      <td>mC0Kgv5QlBKBvB!Tbs9zBQXQdm8!CK98cuzsjs8KowTJfo...</td>\n",
       "      <td>bb592aee-98a2-11ef-b248-1724ad6b12c6</td>\n",
       "      <td>rnbqkbnr/pppppppp/8/8/8/8/PPPPPPPP/RNBQKBNR w ...</td>\n",
       "      <td>8/8/2p5/8/8/2k5/8/r1K4b w - - 28 67</td>\n",
       "      <td>1.730499e+09</td>\n",
       "      <td>...</td>\n",
       "      <td>{'rating': 2725, 'result': 'checkmated', '@id'...</td>\n",
       "      <td>{'rating': 2769, 'result': 'win', '@id': 'http...</td>\n",
       "      <td>https://www.chess.com/openings/Four-Knights-Ga...</td>\n",
       "      <td>NaN</td>\n",
       "      <td>capablanca-BOT</td>\n",
       "      <td>Hikaru</td>\n",
       "      <td>black</td>\n",
       "      <td>0-1</td>\n",
       "      <td>loss</td>\n",
       "      <td>Four-Knights-Game-Scotch-Variation-Accepted</td>\n",
       "    </tr>\n",
       "    <tr>\n",
       "      <th>1</th>\n",
       "      <td>https://www.chess.com/game/live/124302530065</td>\n",
       "      <td>[Event \"Live Chess\"]\\n[Site \"Chess.com\"]\\n[Dat...</td>\n",
       "      <td>60</td>\n",
       "      <td>1730563543</td>\n",
       "      <td>True</td>\n",
       "      <td>jr0KcjZRmu5Qgv!TlBKBvB90fm8!eg6ZkA98mv09bs45BQ...</td>\n",
       "      <td>067a6bf4-9934-11ef-9df8-6cfe544c0428</td>\n",
       "      <td></td>\n",
       "      <td>8/5pbk/3p1p2/2p2P1P/2P1q1K1/6P1/8/7q w - -</td>\n",
       "      <td>NaN</td>\n",
       "      <td>...</td>\n",
       "      <td>{'rating': 3248, 'result': 'checkmated', '@id'...</td>\n",
       "      <td>{'rating': 2565, 'result': 'win', '@id': 'http...</td>\n",
       "      <td>https://www.chess.com/openings/Nimzowitsch-Lar...</td>\n",
       "      <td>{'white': 78.48, 'black': 83.29}</td>\n",
       "      <td>Hikaru</td>\n",
       "      <td>meoluoi91</td>\n",
       "      <td>white</td>\n",
       "      <td>0-1</td>\n",
       "      <td>loss</td>\n",
       "      <td>Nimzowitsch-Larsen-Attack-Modern-Variation</td>\n",
       "    </tr>\n",
       "  </tbody>\n",
       "</table>\n",
       "<p>2 rows × 22 columns</p>\n",
       "</div>"
      ],
      "text/plain": [
       "                                            url  \\\n",
       "0    https://www.chess.com/game/daily/175903249   \n",
       "1  https://www.chess.com/game/live/124302530065   \n",
       "\n",
       "                                                 pgn time_control    end_time  \\\n",
       "0  [Event \"Play vs Bot\"]\\n[Site \"Chess.com\"]\\n[Da...          1/0  1730501016   \n",
       "1  [Event \"Live Chess\"]\\n[Site \"Chess.com\"]\\n[Dat...           60  1730563543   \n",
       "\n",
       "   rated                                                tcn  \\\n",
       "0  False  mC0Kgv5QlBKBvB!Tbs9zBQXQdm8!CK98cuzsjs8KowTJfo...   \n",
       "1   True  jr0KcjZRmu5Qgv!TlBKBvB90fm8!eg6ZkA98mv09bs45BQ...   \n",
       "\n",
       "                                   uuid  \\\n",
       "0  bb592aee-98a2-11ef-b248-1724ad6b12c6   \n",
       "1  067a6bf4-9934-11ef-9df8-6cfe544c0428   \n",
       "\n",
       "                                       initial_setup  \\\n",
       "0  rnbqkbnr/pppppppp/8/8/8/8/PPPPPPPP/RNBQKBNR w ...   \n",
       "1                                                      \n",
       "\n",
       "                                          fen    start_time  ...  \\\n",
       "0         8/8/2p5/8/8/2k5/8/r1K4b w - - 28 67  1.730499e+09  ...   \n",
       "1  8/5pbk/3p1p2/2p2P1P/2P1q1K1/6P1/8/7q w - -           NaN  ...   \n",
       "\n",
       "                                               white  \\\n",
       "0  {'rating': 2725, 'result': 'checkmated', '@id'...   \n",
       "1  {'rating': 3248, 'result': 'checkmated', '@id'...   \n",
       "\n",
       "                                               black  \\\n",
       "0  {'rating': 2769, 'result': 'win', '@id': 'http...   \n",
       "1  {'rating': 2565, 'result': 'win', '@id': 'http...   \n",
       "\n",
       "                                                 eco  \\\n",
       "0  https://www.chess.com/openings/Four-Knights-Ga...   \n",
       "1  https://www.chess.com/openings/Nimzowitsch-Lar...   \n",
       "\n",
       "                         accuracies      white_user black_user  color  \\\n",
       "0                               NaN  capablanca-BOT     Hikaru  black   \n",
       "1  {'white': 78.48, 'black': 83.29}          Hikaru  meoluoi91  white   \n",
       "\n",
       "  raw_result result                                     openings  \n",
       "0        0-1   loss  Four-Knights-Game-Scotch-Variation-Accepted  \n",
       "1        0-1   loss   Nimzowitsch-Larsen-Attack-Modern-Variation  \n",
       "\n",
       "[2 rows x 22 columns]"
      ]
     },
     "execution_count": 96,
     "metadata": {},
     "output_type": "execute_result"
    }
   ],
   "source": [
    "df.head(2)"
   ]
  },
  {
   "cell_type": "code",
   "execution_count": 97,
   "metadata": {},
   "outputs": [],
   "source": [
    "opening_counts = df.groupby(['openings', 'color']).size().unstack(fill_value=0)"
   ]
  },
  {
   "cell_type": "code",
   "execution_count": 98,
   "metadata": {},
   "outputs": [
    {
     "data": {
      "text/html": [
       "<div>\n",
       "<style scoped>\n",
       "    .dataframe tbody tr th:only-of-type {\n",
       "        vertical-align: middle;\n",
       "    }\n",
       "\n",
       "    .dataframe tbody tr th {\n",
       "        vertical-align: top;\n",
       "    }\n",
       "\n",
       "    .dataframe thead th {\n",
       "        text-align: right;\n",
       "    }\n",
       "</style>\n",
       "<table border=\"1\" class=\"dataframe\">\n",
       "  <thead>\n",
       "    <tr style=\"text-align: right;\">\n",
       "      <th>color</th>\n",
       "      <th>black</th>\n",
       "      <th>white</th>\n",
       "    </tr>\n",
       "    <tr>\n",
       "      <th>openings</th>\n",
       "      <th></th>\n",
       "      <th></th>\n",
       "    </tr>\n",
       "  </thead>\n",
       "  <tbody>\n",
       "    <tr>\n",
       "      <th>Alapin-Sicilian-Defense</th>\n",
       "      <td>0</td>\n",
       "      <td>2</td>\n",
       "    </tr>\n",
       "    <tr>\n",
       "      <th>Alapin-Sicilian-Defense-Barmen-Defense</th>\n",
       "      <td>2</td>\n",
       "      <td>2</td>\n",
       "    </tr>\n",
       "    <tr>\n",
       "      <th>Alekhines-Defense-Exchange-Variation</th>\n",
       "      <td>1</td>\n",
       "      <td>0</td>\n",
       "    </tr>\n",
       "    <tr>\n",
       "      <th>Alekhines-Defense-Maroczy-Variation</th>\n",
       "      <td>1</td>\n",
       "      <td>0</td>\n",
       "    </tr>\n",
       "    <tr>\n",
       "      <th>Alekhines-Defense-Modern-Larsen-Variation</th>\n",
       "      <td>0</td>\n",
       "      <td>1</td>\n",
       "    </tr>\n",
       "    <tr>\n",
       "      <th>...</th>\n",
       "      <td>...</td>\n",
       "      <td>...</td>\n",
       "    </tr>\n",
       "    <tr>\n",
       "      <th>Vienna-Game-Main-Line</th>\n",
       "      <td>0</td>\n",
       "      <td>1</td>\n",
       "    </tr>\n",
       "    <tr>\n",
       "      <th>Vienna-Game-Main-Line-Breyer-Variation</th>\n",
       "      <td>0</td>\n",
       "      <td>1</td>\n",
       "    </tr>\n",
       "    <tr>\n",
       "      <th>Vienna-Game-Main-Line-Paulsen-Attack</th>\n",
       "      <td>0</td>\n",
       "      <td>1</td>\n",
       "    </tr>\n",
       "    <tr>\n",
       "      <th>Vienna-Game-Max-Lange-Defense</th>\n",
       "      <td>0</td>\n",
       "      <td>3</td>\n",
       "    </tr>\n",
       "    <tr>\n",
       "      <th>Vienna-Game-Max-Lange-Steinitz-Gambit</th>\n",
       "      <td>0</td>\n",
       "      <td>1</td>\n",
       "    </tr>\n",
       "  </tbody>\n",
       "</table>\n",
       "<p>195 rows × 2 columns</p>\n",
       "</div>"
      ],
      "text/plain": [
       "color                                      black  white\n",
       "openings                                               \n",
       "Alapin-Sicilian-Defense                        0      2\n",
       "Alapin-Sicilian-Defense-Barmen-Defense         2      2\n",
       "Alekhines-Defense-Exchange-Variation           1      0\n",
       "Alekhines-Defense-Maroczy-Variation            1      0\n",
       "Alekhines-Defense-Modern-Larsen-Variation      0      1\n",
       "...                                          ...    ...\n",
       "Vienna-Game-Main-Line                          0      1\n",
       "Vienna-Game-Main-Line-Breyer-Variation         0      1\n",
       "Vienna-Game-Main-Line-Paulsen-Attack           0      1\n",
       "Vienna-Game-Max-Lange-Defense                  0      3\n",
       "Vienna-Game-Max-Lange-Steinitz-Gambit          0      1\n",
       "\n",
       "[195 rows x 2 columns]"
      ]
     },
     "execution_count": 98,
     "metadata": {},
     "output_type": "execute_result"
    }
   ],
   "source": [
    "opening_counts"
   ]
  },
  {
   "cell_type": "code",
   "execution_count": 99,
   "metadata": {},
   "outputs": [],
   "source": [
    "top_openings = opening_counts.sum(axis=1).nlargest(5).index"
   ]
  },
  {
   "cell_type": "code",
   "execution_count": 100,
   "metadata": {},
   "outputs": [
    {
     "data": {
      "text/plain": [
       "Index(['Nimzowitsch-Larsen-Attack-Classical-Variation',\n",
       "       'Nimzowitsch-Larsen-Attack-Modern-Variation', 'Modern-Defense-with',\n",
       "       'Modern-Defense-Standard-Line',\n",
       "       'Closed-Sicilian-Defense-Grand-Prix-Attack'],\n",
       "      dtype='object', name='openings')"
      ]
     },
     "execution_count": 100,
     "metadata": {},
     "output_type": "execute_result"
    }
   ],
   "source": [
    "top_openings"
   ]
  },
  {
   "cell_type": "code",
   "execution_count": 101,
   "metadata": {},
   "outputs": [],
   "source": [
    "top_opening_counts = opening_counts.loc[top_openings]"
   ]
  },
  {
   "cell_type": "code",
   "execution_count": 102,
   "metadata": {},
   "outputs": [
    {
     "data": {
      "text/plain": [
       "<Axes: ylabel='openings'>"
      ]
     },
     "execution_count": 102,
     "metadata": {},
     "output_type": "execute_result"
    },
    {
     "data": {
      "image/png": "[encoded data removed]",
      "text/plain": [
       "<Figure size 640x480 with 1 Axes>"
      ]
     },
     "metadata": {},
     "output_type": "display_data"
    }
   ],
   "source": [
    "top_opening_counts.plot(kind='barh')"
   ]
  }
 ],
 "metadata": {
  "kernelspec": {
   "display_name": "base",
   "language": "python",
   "name": "python3"
  },
  "language_info": {
   "codemirror_mode": {
    "name": "ipython",
    "version": 3
   },
   "file_extension": ".py",
   "mimetype": "text/x-python",
   "name": "python",
   "nbconvert_exporter": "python",
   "pygments_lexer": "ipython3",
   "version": "3.12.3"
  }
 },
 "nbformat": 4,
 "nbformat_minor": 2
}
