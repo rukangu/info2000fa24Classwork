{
 "cells": [
  {
   "cell_type": "markdown",
   "metadata": {},
   "source": [
    "# demonstrates advanced unpacking"
   ]
  },
  {
   "cell_type": "code",
   "execution_count": 1,
   "metadata": {},
   "outputs": [],
   "source": [
    "\n",
    "# unpacking\n",
    "tup1 = 1,2,3\n",
    "\n",
    "a,b,c = tup1"
   ]
  },
  {
   "cell_type": "code",
   "execution_count": 2,
   "metadata": {},
   "outputs": [
    {
     "name": "stdout",
     "output_type": "stream",
     "text": [
      "1 2 3\n"
     ]
    }
   ],
   "source": [
    "print(a,b,c)"
   ]
  },
  {
   "cell_type": "code",
   "execution_count": null,
   "metadata": {},
   "outputs": [],
   "source": [
    "def converter(usd, eur, yen, peso, rub):\n",
    "    return usd + eur*1.08 + yen * 0.0065 + peso * 0.051 + rub * 0.01"
   ]
  },
  {
   "cell_type": "code",
   "execution_count": 4,
   "metadata": {},
   "outputs": [],
   "source": [
    "wallet = [1000, 100, 1000, 2000, 5000]"
   ]
  },
  {
   "cell_type": "code",
   "execution_count": 5,
   "metadata": {},
   "outputs": [
    {
     "name": "stdout",
     "output_type": "stream",
     "text": [
      "you have $ 1266.5\n"
     ]
    }
   ],
   "source": [
    "print(f\"you have $ {converter(wallet[0], wallet[1], wallet[2], wallet[3], wallet[4])}\")"
   ]
  },
  {
   "cell_type": "code",
   "execution_count": 6,
   "metadata": {},
   "outputs": [
    {
     "ename": "TypeError",
     "evalue": "converter() missing 4 required positional arguments: 'eur', 'yen', 'peso', and 'rub'",
     "output_type": "error",
     "traceback": [
      "\u001b[1;31m---------------------------------------------------------------------------\u001b[0m",
      "\u001b[1;31mTypeError\u001b[0m                                 Traceback (most recent call last)",
      "Cell \u001b[1;32mIn[6], line 1\u001b[0m\n\u001b[1;32m----> 1\u001b[0m converter(wallet)\n",
      "\u001b[1;31mTypeError\u001b[0m: converter() missing 4 required positional arguments: 'eur', 'yen', 'peso', and 'rub'"
     ]
    }
   ],
   "source": [
    "converter(wallet)"
   ]
  },
  {
   "cell_type": "code",
   "execution_count": 7,
   "metadata": {},
   "outputs": [
    {
     "name": "stdout",
     "output_type": "stream",
     "text": [
      "you have $ 1266.5\n"
     ]
    }
   ],
   "source": [
    "# print(f\"you have $ {converter(wallet[0], wallet[1], wallet[2], wallet[3], wallet[4])}\")\n",
    "print(f\"you have $ {converter(*wallet)}\")"
   ]
  },
  {
   "cell_type": "code",
   "execution_count": null,
   "metadata": {},
   "outputs": [],
   "source": [
    "# wallet = [1000, 100, 1000, 2000, 5000]\n",
    "wallet2 = {'usd':1000, 'eur':100, 'yen':1000, 'peso':2000, 'rub':5000}"
   ]
  }
 ],
 "metadata": {
  "kernelspec": {
   "display_name": "base",
   "language": "python",
   "name": "python3"
  },
  "language_info": {
   "codemirror_mode": {
    "name": "ipython",
    "version": 3
   },
   "file_extension": ".py",
   "mimetype": "text/x-python",
   "name": "python",
   "nbconvert_exporter": "python",
   "pygments_lexer": "ipython3",
   "version": "3.12.3"
  }
 },
 "nbformat": 4,
 "nbformat_minor": 2
}
