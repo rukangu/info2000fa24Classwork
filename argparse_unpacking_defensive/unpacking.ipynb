{
 "cells": [
  {
   "cell_type": "markdown",
   "metadata": {},
   "source": [
    "# demonstrates advanced unpacking"
   ]
  },
  {
   "cell_type": "code",
   "execution_count": 1,
   "metadata": {},
   "outputs": [],
   "source": [
    "\n",
    "# unpacking\n",
    "tup1 = 1,2,3\n",
    "\n",
    "a,b,c = tup1"
   ]
  },
  {
   "cell_type": "code",
   "execution_count": 2,
   "metadata": {},
   "outputs": [
    {
     "name": "stdout",
     "output_type": "stream",
     "text": [
      "1 2 3\n"
     ]
    }
   ],
   "source": [
    "print(a,b,c)"
   ]
  },
  {
   "cell_type": "code",
   "execution_count": 3,
   "metadata": {},
   "outputs": [],
   "source": [
    "def converter(usd, eur, yen, peso, rub):\n",
    "    return usd + eur*1.08 + yen * 0.0065 + peso * 0.051 + rub * 0.01"
   ]
  },
  {
   "cell_type": "code",
   "execution_count": 4,
   "metadata": {},
   "outputs": [],
   "source": [
    "wallet = [1000, 100, 1000, 2000, 5000]"
   ]
  },
  {
   "cell_type": "code",
   "execution_count": 5,
   "metadata": {},
   "outputs": [
    {
     "name": "stdout",
     "output_type": "stream",
     "text": [
      "you have $ 1266.5\n"
     ]
    }
   ],
   "source": [
    "print(f\"you have $ {converter(wallet[0], wallet[1], wallet[2], wallet[3], wallet[4])}\")"
   ]
  },
  {
   "cell_type": "code",
   "execution_count": 6,
   "metadata": {},
   "outputs": [
    {
     "ename": "TypeError",
     "evalue": "converter() missing 4 required positional arguments: 'eur', 'yen', 'peso', and 'rub'",
     "output_type": "error",
     "traceback": [
      "\u001b[1;31m---------------------------------------------------------------------------\u001b[0m",
      "\u001b[1;31mTypeError\u001b[0m                                 Traceback (most recent call last)",
      "Cell \u001b[1;32mIn[6], line 1\u001b[0m\n\u001b[1;32m----> 1\u001b[0m converter(wallet)\n",
      "\u001b[1;31mTypeError\u001b[0m: converter() missing 4 required positional arguments: 'eur', 'yen', 'peso', and 'rub'"
     ]
    }
   ],
   "source": [
    "converter(wallet)"
   ]
  },
  {
   "cell_type": "code",
   "execution_count": 7,
   "metadata": {},
   "outputs": [
    {
     "name": "stdout",
     "output_type": "stream",
     "text": [
      "you have $ 1266.5\n"
     ]
    }
   ],
   "source": [
    "# print(f\"you have $ {converter(wallet[0], wallet[1], wallet[2], wallet[3], wallet[4])}\")\n",
    "print(f\"you have $ {converter(*wallet)}\")"
   ]
  },
  {
   "cell_type": "code",
   "execution_count": 8,
   "metadata": {},
   "outputs": [
    {
     "name": "stdout",
     "output_type": "stream",
     "text": [
      "$1266.5\n"
     ]
    }
   ],
   "source": [
    "# wallet = [1000, 100, 1000, 2000, 5000]\n",
    "wallet2 = {'usd':1000, 'eur':100, 'yen':1000, 'peso':2000, 'rub':5000}\n",
    "print(f\"${converter(**wallet2)}\") # converter(usd = 1000, eur = 100 )"
   ]
  },
  {
   "cell_type": "code",
   "execution_count": 9,
   "metadata": {},
   "outputs": [
    {
     "name": "stdout",
     "output_type": "stream",
     "text": [
      "hello\n",
      "hello word 1 2 3\n"
     ]
    }
   ],
   "source": [
    "# flexible functions\n",
    "print('hello')\n",
    "print('hello','word', 1,2,3)"
   ]
  },
  {
   "cell_type": "code",
   "execution_count": null,
   "metadata": {},
   "outputs": [],
   "source": [
    "def genericFunction(*args, **kwargs):\n",
    "    print(\"positional arguments\")\n",
    "    for i,pos_arg in enumerate(args):\n",
    "        print(f'arg[{i}] = {pos_arg}')\n",
    "    print('-'*20)\n",
    "    for key,value in kwargs.items():\n",
    "        print(f'{key} = {value}')\n",
    "    "
   ]
  },
  {
   "cell_type": "code",
   "execution_count": 16,
   "metadata": {},
   "outputs": [
    {
     "data": {
      "text/plain": [
       "dict"
      ]
     },
     "execution_count": 16,
     "metadata": {},
     "output_type": "execute_result"
    }
   ],
   "source": [
    "type(wallet2)"
   ]
  },
  {
   "cell_type": "code",
   "execution_count": 19,
   "metadata": {},
   "outputs": [
    {
     "name": "stdout",
     "output_type": "stream",
     "text": [
      "positional arguments\n",
      "arg[0] = 1\n",
      "arg[1] = 2\n",
      "arg[2] = 4\n",
      "arg[3] = hi\n",
      "arg[4] = info2000\n",
      "--------------------\n",
      "name = Paul\n",
      "major = Engineering\n",
      "university = UGA\n"
     ]
    }
   ],
   "source": [
    "# call the function\n",
    "\n",
    "genericFunction(1,2,4,'hi', 'info2000', name = 'Paul', major = 'Engineering', university = 'UGA')"
   ]
  },
  {
   "cell_type": "code",
   "execution_count": 30,
   "metadata": {},
   "outputs": [],
   "source": [
    "def url_builder(base, **kwargs):\n",
    "    to_return = \"\"\n",
    "    for key, value in kwargs.items():        \n",
    "        to_return += f\"{key}={value}&\"\n",
    "    \n",
    "    to_return = base+\"?\"+to_return\n",
    "    return to_return.strip('&')"
   ]
  },
  {
   "cell_type": "code",
   "execution_count": 32,
   "metadata": {},
   "outputs": [
    {
     "data": {
      "text/plain": [
       "'http://example.com?product=1024&source=Google&lang=en'"
      ]
     },
     "execution_count": 32,
     "metadata": {},
     "output_type": "execute_result"
    }
   ],
   "source": [
    "url_builder('http://example.com', product = 1024, source = 'Google', lang = 'en')"
   ]
  },
  {
   "cell_type": "code",
   "execution_count": null,
   "metadata": {},
   "outputs": [],
   "source": []
  }
 ],
 "metadata": {
  "kernelspec": {
   "display_name": "base",
   "language": "python",
   "name": "python3"
  },
  "language_info": {
   "codemirror_mode": {
    "name": "ipython",
    "version": 3
   },
   "file_extension": ".py",
   "mimetype": "text/x-python",
   "name": "python",
   "nbconvert_exporter": "python",
   "pygments_lexer": "ipython3",
   "version": "3.12.3"
  }
 },
 "nbformat": 4,
 "nbformat_minor": 2
}
