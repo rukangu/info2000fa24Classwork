{
 "cells": [
  {
   "cell_type": "code",
   "execution_count": 1,
   "id": "fa359aa9-2cfe-4d5a-9565-8e7f8485810c",
   "metadata": {},
   "outputs": [],
   "source": [
    "cars = [\"Toyota\", \"Ford\", \"Volvo\", \"BMW\"]"
   ]
  },
  {
   "cell_type": "code",
   "execution_count": 2,
   "id": "0b54e7c9-9df6-481a-949b-dd9065144720",
   "metadata": {},
   "outputs": [
    {
     "data": {
      "text/plain": [
       "4"
      ]
     },
     "execution_count": 2,
     "metadata": {},
     "output_type": "execute_result"
    }
   ],
   "source": [
    "len(cars)\n"
   ]
  },
  {
   "cell_type": "code",
   "execution_count": 5,
   "id": "2fc59e64-d38e-45ed-a03b-4d803c6ee1d6",
   "metadata": {},
   "outputs": [],
   "source": [
    "cars.append(\"Honda\")"
   ]
  },
  {
   "cell_type": "code",
   "execution_count": 6,
   "id": "58a834a3-8084-45ae-8bad-038d3100cca6",
   "metadata": {},
   "outputs": [
    {
     "data": {
      "text/plain": [
       "['Toyota', 'Ford', 'Volvo', 'BMW', 'Honda']"
      ]
     },
     "metadata": {},
     "output_type": "display_data"
    }
   ],
   "source": [
    "display(cars)"
   ]
  },
  {
   "cell_type": "code",
   "execution_count": 7,
   "id": "4b6f4f63-87e7-4bac-8903-3ace42df6c25",
   "metadata": {},
   "outputs": [],
   "source": [
    "cars.remove(\"BMW\")"
   ]
  },
  {
   "cell_type": "code",
   "execution_count": 8,
   "id": "6050cf2f-d7b9-4f1c-8769-1c744bdafc4b",
   "metadata": {},
   "outputs": [
    {
     "data": {
      "text/plain": [
       "['Toyota', 'Ford', 'Volvo', 'Honda']"
      ]
     },
     "execution_count": 8,
     "metadata": {},
     "output_type": "execute_result"
    }
   ],
   "source": [
    "cars"
   ]
  },
  {
   "cell_type": "code",
   "execution_count": 9,
   "id": "4848b5ac-4e88-481b-8923-459f74e352f5",
   "metadata": {},
   "outputs": [
    {
     "ename": "ValueError",
     "evalue": "list.remove(x): x not in list",
     "output_type": "error",
     "traceback": [
      "\u001b[1;31m---------------------------------------------------------------------------\u001b[0m",
      "\u001b[1;31mValueError\u001b[0m                                Traceback (most recent call last)",
      "Cell \u001b[1;32mIn[9], line 1\u001b[0m\n\u001b[1;32m----> 1\u001b[0m cars\u001b[38;5;241m.\u001b[39mremove(\u001b[38;5;124m\"\u001b[39m\u001b[38;5;124mBenz\u001b[39m\u001b[38;5;124m\"\u001b[39m)\n",
      "\u001b[1;31mValueError\u001b[0m: list.remove(x): x not in list"
     ]
    }
   ],
   "source": [
    "cars.remove(\"Benz\")"
   ]
  },
  {
   "cell_type": "code",
   "execution_count": 10,
   "id": "70f966a2-c9db-4e65-a52d-2fb2d4d6e1cb",
   "metadata": {},
   "outputs": [
    {
     "data": {
      "text/plain": [
       "['Toyota', 'Ford', 'Volvo', 'Honda']"
      ]
     },
     "metadata": {},
     "output_type": "display_data"
    },
    {
     "data": {
      "text/plain": [
       "'Honda'"
      ]
     },
     "execution_count": 10,
     "metadata": {},
     "output_type": "execute_result"
    }
   ],
   "source": [
    "display(cars)\n",
    "# pop/remove the last one\n",
    "cars.pop()"
   ]
  },
  {
   "cell_type": "code",
   "execution_count": 11,
   "id": "72d70c30-96da-4968-a454-86736160ef7e",
   "metadata": {},
   "outputs": [
    {
     "data": {
      "text/plain": [
       "'Ford'"
      ]
     },
     "execution_count": 11,
     "metadata": {},
     "output_type": "execute_result"
    }
   ],
   "source": [
    "# pop/remove at specific index: Ford is at index 1\n",
    "cars.pop(1)"
   ]
  },
  {
   "cell_type": "code",
   "execution_count": 12,
   "id": "7d535b49-ddd3-40ea-922d-f8c0761629a3",
   "metadata": {},
   "outputs": [
    {
     "data": {
      "text/plain": [
       "['Toyota', 'Volvo']"
      ]
     },
     "metadata": {},
     "output_type": "display_data"
    }
   ],
   "source": [
    "display(cars)"
   ]
  },
  {
   "cell_type": "code",
   "execution_count": 13,
   "id": "95c24935-5501-4ad0-9484-6f26b5df2022",
   "metadata": {},
   "outputs": [
    {
     "data": {
      "text/plain": [
       "['Toyota', 'Volvo', 'Mitsubishi']"
      ]
     },
     "metadata": {},
     "output_type": "display_data"
    }
   ],
   "source": [
    "# insert item at index\n",
    "cars.insert(2,\"Mitsubishi\")\n",
    "display(cars)"
   ]
  },
  {
   "cell_type": "code",
   "execution_count": 14,
   "id": "87ac21c6-5e4e-4b4a-b080-886ce781b9dd",
   "metadata": {},
   "outputs": [
    {
     "data": {
      "text/plain": [
       "['Toyota', 'Volvo', 'Mitsubishi', 'Benz']"
      ]
     },
     "metadata": {},
     "output_type": "display_data"
    }
   ],
   "source": [
    "cars.insert(5,\"Benz\") # what  happens if you try and insert in an out of bounds index?\n",
    "display(cars)"
   ]
  },
  {
   "cell_type": "code",
   "execution_count": 15,
   "id": "a22a9f33-9226-48f6-9dd5-1322e6098796",
   "metadata": {},
   "outputs": [
    {
     "ename": "TypeError",
     "evalue": "insert expected 2 arguments, got 1",
     "output_type": "error",
     "traceback": [
      "\u001b[1;31m---------------------------------------------------------------------------\u001b[0m",
      "\u001b[1;31mTypeError\u001b[0m                                 Traceback (most recent call last)",
      "Cell \u001b[1;32mIn[15], line 1\u001b[0m\n\u001b[1;32m----> 1\u001b[0m cars\u001b[38;5;241m.\u001b[39minsert(\u001b[38;5;124m\"\u001b[39m\u001b[38;5;124mBenz\u001b[39m\u001b[38;5;124m\"\u001b[39m) \u001b[38;5;66;03m# what  happens if you try and insert without specifying an index?\u001b[39;00m\n\u001b[0;32m      2\u001b[0m display(cars)\n",
      "\u001b[1;31mTypeError\u001b[0m: insert expected 2 arguments, got 1"
     ]
    }
   ],
   "source": [
    "cars.insert(\"Benz\") # what  happens if you try and insert without specifying an index?\n",
    "display(cars)"
   ]
  },
  {
   "cell_type": "code",
   "execution_count": 16,
   "id": "334123ad-6127-4046-9ebc-be4e5ce1933b",
   "metadata": {},
   "outputs": [],
   "source": [
    "# sort\n",
    "cars.sort()"
   ]
  },
  {
   "cell_type": "code",
   "execution_count": 17,
   "id": "6c6b91f0-c67a-48fb-ae99-aa0ce6aca697",
   "metadata": {},
   "outputs": [
    {
     "data": {
      "text/plain": [
       "['Benz', 'Mitsubishi', 'Toyota', 'Volvo']"
      ]
     },
     "metadata": {},
     "output_type": "display_data"
    }
   ],
   "source": [
    "display(cars)"
   ]
  },
  {
   "cell_type": "code",
   "execution_count": 18,
   "id": "087f04e6-7a5c-4b94-b995-ba49319c35c6",
   "metadata": {},
   "outputs": [
    {
     "data": {
      "text/plain": [
       "['Volvo', 'Toyota', 'Mitsubishi', 'Benz']"
      ]
     },
     "metadata": {},
     "output_type": "display_data"
    }
   ],
   "source": [
    "cars.reverse()\n",
    "display(cars)"
   ]
  },
  {
   "cell_type": "code",
   "execution_count": 21,
   "id": "8ed36ed5-b5f6-45cb-ab0d-ca9f5912d330",
   "metadata": {},
   "outputs": [
    {
     "name": "stdout",
     "output_type": "stream",
     "text": [
      "[1, 4, 6, 7, 11, 19]\n"
     ]
    },
    {
     "data": {
      "text/plain": [
       "[1, 4, 7, 11, 19]"
      ]
     },
     "metadata": {},
     "output_type": "display_data"
    }
   ],
   "source": [
    "a = [1,4,6,7,11,19]\n",
    "print(a)\n",
    "del a[2]\n",
    "display(a)"
   ]
  },
  {
   "cell_type": "code",
   "execution_count": 23,
   "id": "40a4b41a-a1d9-401a-9df9-162833018e30",
   "metadata": {},
   "outputs": [
    {
     "data": {
      "text/plain": [
       "[1, 11, 19]"
      ]
     },
     "metadata": {},
     "output_type": "display_data"
    }
   ],
   "source": [
    "del a [1:3] # last index not included\n",
    "display(a)"
   ]
  },
  {
   "cell_type": "code",
   "execution_count": 24,
   "id": "33efeec5-59f8-452a-9178-8617f79f64ad",
   "metadata": {},
   "outputs": [
    {
     "data": {
      "text/plain": [
       "True"
      ]
     },
     "execution_count": 24,
     "metadata": {},
     "output_type": "execute_result"
    }
   ],
   "source": [
    "1 in a"
   ]
  },
  {
   "cell_type": "code",
   "execution_count": 25,
   "id": "d1951ad0-f80e-44b2-ac05-787e5e05e6d0",
   "metadata": {},
   "outputs": [
    {
     "data": {
      "text/plain": [
       "False"
      ]
     },
     "execution_count": 25,
     "metadata": {},
     "output_type": "execute_result"
    }
   ],
   "source": [
    "10 in a"
   ]
  },
  {
   "cell_type": "code",
   "execution_count": 28,
   "id": "0eabcf8e-9b96-4e4c-8b84-b5cf88322db0",
   "metadata": {},
   "outputs": [
    {
     "name": "stdout",
     "output_type": "stream",
     "text": [
      "0\n",
      "1\n",
      "2\n",
      "3\n",
      "4\n",
      "5\n",
      "6\n",
      "7\n",
      "8\n",
      "9\n",
      "------------------------------\n",
      "Volvo\n",
      "Toyota\n",
      "Mitsubishi\n",
      "Benz\n"
     ]
    }
   ],
   "source": [
    "for i in range(10):\n",
    "    print(i)\n",
    "print(\"------------------------------\")\n",
    "for i in cars:\n",
    "    print(i)\n"
   ]
  },
  {
   "cell_type": "code",
   "execution_count": 31,
   "id": "4ab0bc1c-1657-4f2b-bc8b-76ec9d1779f0",
   "metadata": {},
   "outputs": [],
   "source": [
    "# georgia lottery\n",
    "import random\n",
    "g1 = random.sample(range(1,70),5)"
   ]
  },
  {
   "cell_type": "code",
   "execution_count": 32,
   "id": "e4ebc00a-508b-40c7-9e9f-e7bd1568f0dd",
   "metadata": {},
   "outputs": [
    {
     "data": {
      "text/plain": [
       "[5, 30, 59, 46, 41]"
      ]
     },
     "execution_count": 32,
     "metadata": {},
     "output_type": "execute_result"
    }
   ],
   "source": [
    "g1"
   ]
  },
  {
   "cell_type": "code",
   "execution_count": 34,
   "id": "138f1b12-341d-4793-bc71-452ea61190d6",
   "metadata": {},
   "outputs": [
    {
     "name": "stdout",
     "output_type": "stream",
     "text": [
      "power ball: 25\n"
     ]
    }
   ],
   "source": [
    "# pick the last ball and make sure it's not among the ones already picked\n",
    "while True:\n",
    "    power_ball = random.randint(1,26)\n",
    "    if not power_ball in g1:\n",
    "        break\n",
    "print(f'power ball: {power_ball}')"
   ]
  },
  {
   "cell_type": "code",
   "execution_count": 35,
   "id": "eb7b352f-bf32-4639-bf78-75a0c136a13a",
   "metadata": {},
   "outputs": [
    {
     "name": "stdout",
     "output_type": "stream",
     "text": [
      "[5, 30, 59, 46, 41] 25\n"
     ]
    }
   ],
   "source": [
    "print(g1,power_ball)"
   ]
  },
  {
   "cell_type": "code",
   "execution_count": 36,
   "id": "659130ab-1941-42d5-b77c-41237167a06d",
   "metadata": {},
   "outputs": [
    {
     "name": "stdout",
     "output_type": "stream",
     "text": [
      "36.2\n"
     ]
    }
   ],
   "source": [
    "# let's do some statistics\n",
    "import statistics\n",
    "print(statistics.mean(g1))"
   ]
  },
  {
   "cell_type": "code",
   "execution_count": 37,
   "id": "5881a66e-bc15-417e-b2e2-445ee81015fc",
   "metadata": {},
   "outputs": [
    {
     "data": {
      "text/plain": [
       "['Counter',\n",
       " 'Decimal',\n",
       " 'Fraction',\n",
       " 'LinearRegression',\n",
       " 'NormalDist',\n",
       " 'StatisticsError',\n",
       " '_SQRT2',\n",
       " '__all__',\n",
       " '__annotations__',\n",
       " '__builtins__',\n",
       " '__cached__',\n",
       " '__doc__',\n",
       " '__file__',\n",
       " '__loader__',\n",
       " '__name__',\n",
       " '__package__',\n",
       " '__spec__',\n",
       " '_coerce',\n",
       " '_convert',\n",
       " '_decimal_sqrt_of_frac',\n",
       " '_exact_ratio',\n",
       " '_fail_neg',\n",
       " '_float_sqrt_of_frac',\n",
       " '_integer_sqrt_of_frac_rto',\n",
       " '_isfinite',\n",
       " '_mean_stdev',\n",
       " '_normal_dist_inv_cdf',\n",
       " '_rank',\n",
       " '_sqrt_bit_width',\n",
       " '_ss',\n",
       " '_sum',\n",
       " 'bisect_left',\n",
       " 'bisect_right',\n",
       " 'correlation',\n",
       " 'count',\n",
       " 'covariance',\n",
       " 'defaultdict',\n",
       " 'erf',\n",
       " 'exp',\n",
       " 'fabs',\n",
       " 'fmean',\n",
       " 'fsum',\n",
       " 'geometric_mean',\n",
       " 'groupby',\n",
       " 'harmonic_mean',\n",
       " 'hypot',\n",
       " 'itemgetter',\n",
       " 'linear_regression',\n",
       " 'log',\n",
       " 'math',\n",
       " 'mean',\n",
       " 'median',\n",
       " 'median_grouped',\n",
       " 'median_high',\n",
       " 'median_low',\n",
       " 'mode',\n",
       " 'multimode',\n",
       " 'namedtuple',\n",
       " 'numbers',\n",
       " 'pstdev',\n",
       " 'pvariance',\n",
       " 'quantiles',\n",
       " 'random',\n",
       " 'reduce',\n",
       " 'repeat',\n",
       " 'sqrt',\n",
       " 'stdev',\n",
       " 'sumprod',\n",
       " 'sys',\n",
       " 'tau',\n",
       " 'variance']"
      ]
     },
     "execution_count": 37,
     "metadata": {},
     "output_type": "execute_result"
    }
   ],
   "source": [
    "dir(statistics)"
   ]
  },
  {
   "cell_type": "code",
   "execution_count": 38,
   "id": "bf9b8555-50c7-4d09-bd27-41aefe13498b",
   "metadata": {},
   "outputs": [
    {
     "data": {
      "text/plain": [
       "20.315019074566482"
      ]
     },
     "execution_count": 38,
     "metadata": {},
     "output_type": "execute_result"
    }
   ],
   "source": [
    "statistics.stdev(g1)"
   ]
  },
  {
   "cell_type": "code",
   "execution_count": 39,
   "id": "54ecfad4-72c8-4018-94f4-efef54b5a585",
   "metadata": {},
   "outputs": [],
   "source": [
    "avg = statistics.mean(a)\n",
    "for i in range(len(a)):\n",
    "    std = (a[i]-avg**2)"
   ]
  },
  {
   "cell_type": "code",
   "execution_count": 54,
   "id": "e43ece07-923c-4231-9ea7-3a85a48d0f2f",
   "metadata": {},
   "outputs": [
    {
     "name": "stdin",
     "output_type": "stream",
     "text": [
      "Enter ceiling: 100\n"
     ]
    },
    {
     "name": "stdout",
     "output_type": "stream",
     "text": [
      "3\n",
      "4%2=0. break\n",
      "4\n",
      "5\n",
      "6%2=0. break\n",
      "6\n",
      "7\n",
      "8%2=0. break\n",
      "8\n",
      "9%3=0. break\n",
      "9\n",
      "10%2=0. break\n",
      "10\n",
      "11\n",
      "12%2=0. break\n",
      "12\n",
      "13\n",
      "14%2=0. break\n",
      "14\n",
      "15%3=0. break\n",
      "15\n",
      "16%2=0. break\n",
      "16\n",
      "17\n",
      "18%2=0. break\n",
      "18\n",
      "19\n",
      "20%2=0. break\n",
      "20\n",
      "21%3=0. break\n",
      "21\n",
      "22%2=0. break\n",
      "22\n",
      "23\n",
      "24%2=0. break\n",
      "24\n",
      "25%5=0. break\n",
      "25\n",
      "26%2=0. break\n",
      "26\n",
      "27%3=0. break\n",
      "27\n",
      "28%2=0. break\n",
      "28\n",
      "29\n",
      "30%2=0. break\n",
      "30\n",
      "31\n",
      "32%2=0. break\n",
      "32\n",
      "33%3=0. break\n",
      "33\n",
      "34%2=0. break\n",
      "34\n",
      "35%5=0. break\n",
      "35\n",
      "36%2=0. break\n",
      "36\n",
      "37\n",
      "38%2=0. break\n",
      "38\n",
      "39%3=0. break\n",
      "39\n",
      "40%2=0. break\n",
      "40\n",
      "41\n",
      "42%2=0. break\n",
      "42\n",
      "43\n",
      "44%2=0. break\n",
      "44\n",
      "45%3=0. break\n",
      "45\n",
      "46%2=0. break\n",
      "46\n",
      "47\n",
      "48%2=0. break\n",
      "48\n",
      "49%7=0. break\n",
      "49\n",
      "50%2=0. break\n",
      "50\n",
      "51%3=0. break\n",
      "51\n",
      "52%2=0. break\n",
      "52\n",
      "53\n",
      "54%2=0. break\n",
      "54\n",
      "55%5=0. break\n",
      "55\n",
      "56%2=0. break\n",
      "56\n",
      "57%3=0. break\n",
      "57\n",
      "58%2=0. break\n",
      "58\n",
      "59\n",
      "60%2=0. break\n",
      "60\n",
      "61\n",
      "62%2=0. break\n",
      "62\n",
      "63%3=0. break\n",
      "63\n",
      "64%2=0. break\n",
      "64\n",
      "65%5=0. break\n",
      "65\n",
      "66%2=0. break\n",
      "66\n",
      "67\n",
      "68%2=0. break\n",
      "68\n",
      "69%3=0. break\n",
      "69\n",
      "70%2=0. break\n",
      "70\n",
      "71\n",
      "72%2=0. break\n",
      "72\n",
      "73\n",
      "74%2=0. break\n",
      "74\n",
      "75%3=0. break\n",
      "75\n",
      "76%2=0. break\n",
      "76\n",
      "77%7=0. break\n",
      "77\n",
      "78%2=0. break\n",
      "78\n",
      "79\n",
      "80%2=0. break\n",
      "80\n",
      "81%3=0. break\n",
      "81\n",
      "82%2=0. break\n",
      "82\n",
      "83\n",
      "84%2=0. break\n",
      "84\n",
      "85%5=0. break\n",
      "85\n",
      "86%2=0. break\n",
      "86\n",
      "87%3=0. break\n",
      "87\n",
      "88%2=0. break\n",
      "88\n",
      "89\n",
      "90%2=0. break\n",
      "90\n",
      "91%7=0. break\n",
      "91\n",
      "92%2=0. break\n",
      "92\n",
      "93%3=0. break\n",
      "93\n",
      "94%2=0. break\n",
      "94\n",
      "95%5=0. break\n",
      "95\n",
      "96%2=0. break\n",
      "96\n",
      "97\n",
      "98%2=0. break\n",
      "98\n",
      "99%3=0. break\n",
      "99\n",
      "100%2=0. break\n",
      "100\n",
      "primes [1, 2, 3, 5, 7, 11, 13, 17, 19, 23, 29, 31, 37, 41, 43, 47, 53, 59, 61, 67, 71, 73, 79, 83, 89, 97]\n"
     ]
    }
   ],
   "source": [
    "# program to list all prime numbers up to a user entered value\n",
    "\n",
    "ceiling = int(input(\"Enter ceiling:\"))\n",
    "primes = [1,2] # hold the prime numbers\n",
    "\n",
    "for i in range(3,ceiling+1):\n",
    "    isPrime = True\n",
    "    # check if divisible by any other numbers except itself\n",
    "    for j in range(2,i):\n",
    "        if j == i:\n",
    "            print(f\"{j}={i}. continue\")\n",
    "            continue # don't want to do it if myself\n",
    "        if i%j == 0:\n",
    "            print(f\"{i}%{j}=0. break\")\n",
    "            isPrime = False\n",
    "            break\n",
    "    print(i)\n",
    "    if isPrime:\n",
    "        primes.append(i)\n",
    "print(f\"primes {primes}\")"
   ]
  },
  {
   "cell_type": "code",
   "execution_count": 41,
   "id": "c2e06eac-f329-4a99-b880-db8df61fda88",
   "metadata": {},
   "outputs": [
    {
     "data": {
      "text/plain": [
       "[1, 2, 3, 4, 5, 6, 7, 8, 9, 10]"
      ]
     },
     "execution_count": 41,
     "metadata": {},
     "output_type": "execute_result"
    }
   ],
   "source": [
    "primes"
   ]
  },
  {
   "cell_type": "code",
   "execution_count": 43,
   "id": "93fa1244-2b1d-4115-8155-c7d34b5f9851",
   "metadata": {},
   "outputs": [
    {
     "data": {
      "text/plain": [
       "0"
      ]
     },
     "execution_count": 43,
     "metadata": {},
     "output_type": "execute_result"
    }
   ],
   "source": [
    "2%2"
   ]
  },
  {
   "cell_type": "code",
   "execution_count": 58,
   "id": "399887ad-8d20-4d48-9a1e-7476fab84e7f",
   "metadata": {},
   "outputs": [
    {
     "data": {
      "text/plain": [
       "[11,\n",
       " 11,\n",
       " 11,\n",
       " 11,\n",
       " 11,\n",
       " 11,\n",
       " 11,\n",
       " 11,\n",
       " 11,\n",
       " 11,\n",
       " 11,\n",
       " 11,\n",
       " 11,\n",
       " 11,\n",
       " 11,\n",
       " 11,\n",
       " 11,\n",
       " 11,\n",
       " 11,\n",
       " 11]"
      ]
     },
     "execution_count": 58,
     "metadata": {},
     "output_type": "execute_result"
    }
   ],
   "source": [
    "[11,11]*10"
   ]
  },
  {
   "cell_type": "code",
   "execution_count": null,
   "id": "5514cf27-19df-4ec7-8e4e-8d8ed2d486af",
   "metadata": {},
   "outputs": [],
   "source": []
  }
 ],
 "metadata": {
  "kernelspec": {
   "display_name": "base",
   "language": "python",
   "name": "base"
  },
  "language_info": {
   "codemirror_mode": {
    "name": "ipython",
    "version": 3
   },
   "file_extension": ".py",
   "mimetype": "text/x-python",
   "name": "python",
   "nbconvert_exporter": "python",
   "pygments_lexer": "ipython3",
   "version": "3.12.4"
  }
 },
 "nbformat": 4,
 "nbformat_minor": 5
}
