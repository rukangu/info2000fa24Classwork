{
 "cells": [
  {
   "cell_type": "code",
   "execution_count": 9,
   "id": "3e8069ab-e834-436c-8f69-506fe0f47a96",
   "metadata": {},
   "outputs": [
    {
     "data": {
      "text/plain": [
       "[[0, 0, 0], [0, 0, 0], [0, 0, 0]]"
      ]
     },
     "metadata": {},
     "output_type": "display_data"
    }
   ],
   "source": [
    "# magic square\n",
    "magic_square = [[0]*3]*3\n",
    "ms = [[0]*3 for i in range(3)]\n",
    "display(ms)"
   ]
  },
  {
   "cell_type": "code",
   "execution_count": 6,
   "id": "c72e0f26-6c5a-4091-b384-de32f60dc52a",
   "metadata": {},
   "outputs": [
    {
     "name": "stdout",
     "output_type": "stream",
     "text": [
      "[[0, 0, 0], [0, 0, 0], [0, 0, 0]]\n"
     ]
    }
   ],
   "source": [
    "print (magic_square)"
   ]
  },
  {
   "cell_type": "code",
   "execution_count": 7,
   "id": "7e7e189f-1f70-495f-8ebb-d3b81e06ec5f",
   "metadata": {},
   "outputs": [
    {
     "name": "stdout",
     "output_type": "stream",
     "text": [
      "0 0 0 \n",
      "0 0 0 \n",
      "0 0 0 \n"
     ]
    }
   ],
   "source": [
    "for i in range(len(magic_Square)):\n",
    "    for j in range(len(magic_square[0])):\n",
    "        print(magic_square[i][j],'', end = '')\n",
    "    print()"
   ]
  },
  {
   "cell_type": "code",
   "execution_count": 8,
   "id": "62bc8c94-fbcf-4ee6-be13-2d2318079a6f",
   "metadata": {},
   "outputs": [
    {
     "name": "stdout",
     "output_type": "stream",
     "text": [
      "0 1 0 \n",
      "0 1 0 \n",
      "0 1 0 \n"
     ]
    }
   ],
   "source": [
    "x = 1\n",
    "y = 0\n",
    "magic_square[y][x] = 1\n",
    "for i in range(len(magic_Square)):\n",
    "    for j in range(len(magic_square[0])):\n",
    "        print(magic_square[i][j],'', end = '')\n",
    "    print()"
   ]
  },
  {
   "cell_type": "code",
   "execution_count": null,
   "id": "f3da3088-99df-4bf1-bd72-114974e5526e",
   "metadata": {},
   "outputs": [],
   "source": [
    "x = 1\n",
    "y = 0\n",
    "magic_square[y][x] = 1\n",
    "for i in range(len(magic_Square)):\n",
    "    for j in range(len(magic_square[0])):\n",
    "        print(magic_square[i][j],'', end = '')\n",
    "    print()"
   ]
  },
  {
   "cell_type": "code",
   "execution_count": 11,
   "id": "c6f92b11-aa1f-4648-8468-77b1546c854f",
   "metadata": {},
   "outputs": [
    {
     "data": {
      "text/plain": [
       "[[0, 0, 0], [0, 0, 0], [0, 0, 0]]"
      ]
     },
     "execution_count": 11,
     "metadata": {},
     "output_type": "execute_result"
    }
   ],
   "source": [
    "magic_square"
   ]
  },
  {
   "cell_type": "code",
   "execution_count": null,
   "id": "26757d37-2769-4aad-8754-f4e9700166a9",
   "metadata": {},
   "outputs": [],
   "source": [
    "x = 1\n",
    "y = 0\n",
    "magic_square[y][x] = 1\n",
    "for i in range(2,10):\n",
    "    y -= 1\n",
    "    x += 1\n",
    "    if y < 0:\n",
    "        y = 2\n",
    "    if x > 2: \n",
    "        x = 0\n",
    "    if ms[y][x]:\n",
    "        y += 1\n",
    "        x -= 1\n",
    "        if y > 2:\n",
    "            y = 0\n",
    "        if x< 0:\n",
    "            x =2\n",
    "        y +=1 \n",
    "        magic_square[y][x] =i\n",
    "    for j in range(len(magic_square[0])):\n",
    "        print(magic_square[i][j],'', end = '')\n",
    "    print()"
   ]
  },
  {
   "cell_type": "code",
   "execution_count": null,
   "id": "8e6b7371-f81b-4939-b4f6-1d8fb589e6ef",
   "metadata": {},
   "outputs": [],
   "source": [
    "x = 1\n",
    "y = 0\n",
    "magic_square[y][x] = 1\n",
    "for i in range(2,10):\n",
    "    y -= 1\n",
    "    x += 1\n",
    "    if y < 0:\n",
    "        y = 2\n",
    "    if x > 2: \n",
    "        x = 0\n",
    "    if ms[y][x]:\n",
    "        y += 1\n",
    "        x -= 1\n",
    "        if y > 2:\n",
    "            y = 0\n",
    "        if x< 0:\n",
    "            x =2\n",
    "        y +=1 \n",
    "        magic_square[y][x] =i\n",
    "    for j in range(len(magic_square[0])):\n",
    "        print(magic_square[i][j],'', end = '')\n",
    "    print()"
   ]
  },
  {
   "cell_type": "code",
   "execution_count": 13,
   "id": "ee391b61-f1e6-4f70-9de6-a7149c805d9d",
   "metadata": {},
   "outputs": [
    {
     "name": "stdout",
     "output_type": "stream",
     "text": [
      "gcctggactccacatccgtcctggactgttgagcgcgcagaccagaggcggttgaggaccagtggtgaggaacggccgaggcggcgtctgagcgggtctccggagttcagcatgcgtgagtgtatctctatccacgtggggcaggcaggtgtccagatcggcaatgcctgctgggaactgtactgccttgaacatggcattcagcctgacggtcagatgccaagcgacaaaaccattggcggcggggacgactcattcaacacattcttcagtgagactggagccggcaagcacgtgcccagggcagtgtttgtggacctggagcccactgtggtggatgaggtgcgcacgggaacctaccggcagctttttcacccagagcagctgatcactggaaaggaagatgcagccaataattatgccagaggccactacaccatcggcaaagagattgtcgacctggtcctggatcgaatccgaaagctggccgatctgtgcacgggactgcagggcttcctcatcttccacagctttggaggaggcacagggtctgggtttgcatcgctgctgatggagcggctttcagtggactatggcaagaagtccaagctggagtttgccatctacccagccccccaggtttctacagcggtcgtggagccttacaactccatcctgaccacgcacaccaccctagagcattccgactgtgctttcatggtggataacgaagccatctacgacatctgccggcgcaacctggatattgaacgtcccacatacaccaacctcaatcgtctgattgggcagattgtgtcgtccattacagcctccctgaggtttgatggcgccctgaatgtggacttaacagaattccagaccaacctggtgccataccctcgcatccacttcccactggcaacctacgccccggtcatctcagctgagaaggcataccatgagcagctgtcagtggcagagatcaccaatgcttgcttcgagccagccaatcagatggtcaagtgtgaccctcgccacggcaaatacatggcctgctgcatgttgtaccggggggatgtggttcccaaagatgtcaacgcggctattgcaaccatcaagacaaagcgcaccatccagtttgtagattggtgtccgactggatttaaggtgggtattaactaccagcctcccactgtggtccctgggggagacctggccaaagtgcagcgggccgtgtgcatgctgagcaataccacggccatcgcagaggcctgggcccgcctggaccacaaatttgacctcatgtacgccaagcgagcctttgtgcattggtacgtgggagaaggcatggaggaaggggagttctccgaggcccgggaggacctggcagcgctggagaaggactatgaagaggtgggcgtggattccgtggaagcagaggcagaagaaggggaggagtactgagcgcatgggtctggctggcggccgtccatttatgtcttccccaccattggaaataaaggatatattattaaaatttctagactgaggc\n"
     ]
    }
   ],
   "source": [
    "with open('dna1.txt','r') as f:\n",
    "    data = f.read()\n",
    "    print(data)"
   ]
  },
  {
   "cell_type": "code",
   "execution_count": 15,
   "id": "edea9191-2e12-40a7-8533-32c195a2974c",
   "metadata": {},
   "outputs": [
    {
     "data": {
      "text/plain": [
       "{'a': 357, 't': 321, 'c': 417, 'g': 457}"
      ]
     },
     "metadata": {},
     "output_type": "display_data"
    }
   ],
   "source": [
    "nucleu = {'a':0, 't': 0, 'c': 0, 'g':0}\n",
    "for letter in data:\n",
    "    nucleu[letter] += 1\n",
    "display(nucleu)"
   ]
  },
  {
   "cell_type": "code",
   "execution_count": 18,
   "id": "08624fe9-0818-4641-aa59-9b2d35560c06",
   "metadata": {},
   "outputs": [
    {
     "data": {
      "text/plain": [
       "{'a', 'c', 'g', 't'}"
      ]
     },
     "execution_count": 18,
     "metadata": {},
     "output_type": "execute_result"
    }
   ],
   "source": [
    "nucleutide = {}\n",
    "for letter in set(data):\n",
    "    nucleutide[letter] = 0\n"
   ]
  },
  {
   "cell_type": "code",
   "execution_count": null,
   "id": "ef5915b8-f034-4345-bb19-d0d844a507fc",
   "metadata": {},
   "outputs": [],
   "source": []
  }
 ],
 "metadata": {
  "kernelspec": {
   "display_name": "base",
   "language": "python",
   "name": "base"
  },
  "language_info": {
   "codemirror_mode": {
    "name": "ipython",
    "version": 3
   },
   "file_extension": ".py",
   "mimetype": "text/x-python",
   "name": "python",
   "nbconvert_exporter": "python",
   "pygments_lexer": "ipython3",
   "version": "3.12.4"
  }
 },
 "nbformat": 4,
 "nbformat_minor": 5
}
