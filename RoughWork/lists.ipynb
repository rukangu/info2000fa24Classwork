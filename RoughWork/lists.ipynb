{
 "cells": [
  {
   "cell_type": "code",
   "execution_count": 7,
   "id": "4ad26a27-a629-48e3-9f94-de4bc3f337f4",
   "metadata": {},
   "outputs": [
    {
     "data": {
      "text/plain": [
       "0.6666666666666666"
      ]
     },
     "metadata": {},
     "output_type": "display_data"
    },
    {
     "data": {
      "text/plain": [
       "-1.0"
      ]
     },
     "metadata": {},
     "output_type": "display_data"
    }
   ],
   "source": [
    "# quadratic equation\n",
    "\n",
    "a= 6\n",
    "b = 2 \n",
    "c = -4\n",
    "x1 = (-b +(b**2 - 4*a*c)**0.5)/2/a\n",
    "x2 = (-b -(b**2 - 4*a*c)**0.5)/2/a\n",
    "display(x1, x2)"
   ]
  },
  {
   "cell_type": "code",
   "execution_count": 8,
   "id": "7939492b-92ca-4e45-b7b1-ee39ebbf0df5",
   "metadata": {},
   "outputs": [
    {
     "name": "stdin",
     "output_type": "stream",
     "text": [
      "initial x: 3\n"
     ]
    },
    {
     "name": "stdout",
     "output_type": "stream",
     "text": [
      "1.5263157894736843\n",
      "0.8849195527679301\n",
      "0.6893154620821974\n",
      "0.6669663037248167\n"
     ]
    }
   ],
   "source": [
    "# can we use Taylor series (Newton-Raphson) method?\n",
    "\n",
    "a= 6\n",
    "b = 2 \n",
    "c = -4\n",
    "x = float(input(\"initial x:\"))\n",
    "f = a * x**2 + b*x + c\n",
    "while (f > 0.01 or f < -0.01):\n",
    "    dx = 2*a*x + b\n",
    "    x = x - f/dx\n",
    "    f = a * x**2 + b*x + c\n",
    "    print(x)"
   ]
  },
  {
   "cell_type": "code",
   "execution_count": 10,
   "id": "cd4e8927-0f00-45ea-a33e-0c6f81ce2f0e",
   "metadata": {},
   "outputs": [
    {
     "name": "stdout",
     "output_type": "stream",
     "text": [
      "4\n",
      "1\n",
      "5\n",
      "1\n",
      "6\n",
      "3\n",
      "1\n",
      "1\n",
      "3\n",
      "1\n"
     ]
    }
   ],
   "source": [
    "# random numbers\n",
    "import random\n",
    "for i in range(10):\n",
    "    print(random.randint(1,6))"
   ]
  },
  {
   "cell_type": "code",
   "execution_count": 16,
   "id": "5c85e9a8-c445-40f1-a909-accb96f225fa",
   "metadata": {},
   "outputs": [
    {
     "name": "stdout",
     "output_type": "stream",
     "text": [
      "26\n",
      "56\n",
      "76\n",
      "24\n",
      "86\n",
      "84\n"
     ]
    }
   ],
   "source": [
    "for i in range(6):\n",
    "    print(random.randrange(2,100,2))  # even numbers between 1 and 99"
   ]
  },
  {
   "cell_type": "code",
   "execution_count": 18,
   "id": "463ed4ad-c483-41a0-af01-7078e708ddc6",
   "metadata": {},
   "outputs": [
    {
     "name": "stdout",
     "output_type": "stream",
     "text": [
      "[40, 65, 29, 26, 58, 23]\n",
      "[27, 7, 66, 53, 32, 12]\n",
      "[5, 18, 41, 70, 44, 60]\n",
      "[11, 5, 22, 48, 60, 7]\n",
      "[30, 42, 50, 26, 46, 14]\n",
      "[12, 37, 39, 10, 55, 20]\n",
      "[24, 67, 38, 52, 25, 58]\n",
      "[36, 26, 30, 34, 28, 3]\n",
      "[46, 57, 27, 54, 11, 28]\n",
      "[21, 19, 61, 65, 12, 70]\n"
     ]
    }
   ],
   "source": [
    "for i in range(10):\n",
    "    print(random.sample(range(1,71),6)) # samples do not repeat numbers"
   ]
  },
  {
   "cell_type": "code",
   "execution_count": 19,
   "id": "3a40a1ab-d7e4-470e-a394-989154157895",
   "metadata": {},
   "outputs": [
    {
     "name": "stdout",
     "output_type": "stream",
     "text": [
      "['C', 'T']\n",
      "['A', 'G']\n",
      "['G', 'T']\n",
      "['T', 'A']\n",
      "['G', 'A']\n",
      "['C', 'G']\n",
      "['C', 'T']\n",
      "['C', 'G']\n",
      "['G', 'A']\n",
      "['C', 'A']\n"
     ]
    }
   ],
   "source": [
    "for i in range(10):\n",
    "    print(random.sample('ATCG',2))"
   ]
  },
  {
   "cell_type": "code",
   "execution_count": 21,
   "id": "00e60f16-42ff-410b-84f5-1506488b4632",
   "metadata": {},
   "outputs": [
    {
     "name": "stdout",
     "output_type": "stream",
     "text": [
      "T\n",
      "C\n",
      "T\n",
      "A\n",
      "C\n",
      "A\n",
      "C\n",
      "G\n",
      "T\n",
      "C\n"
     ]
    }
   ],
   "source": [
    "for _ in range(10):\n",
    "    print(random.choice('ATCG'))"
   ]
  },
  {
   "cell_type": "code",
   "execution_count": 23,
   "id": "aea466e2-d20c-44ca-be54-50aa4e2d30dc",
   "metadata": {},
   "outputs": [
    {
     "name": "stdout",
     "output_type": "stream",
     "text": [
      "TGCCTCATCA\n"
     ]
    }
   ],
   "source": [
    "dna = \"\"\n",
    "for _ in range(10):\n",
    "    # print(random.choice('ATCG'))\n",
    "    dna += random.choice('ATCG')\n",
    "print(dna)"
   ]
  },
  {
   "cell_type": "code",
   "execution_count": 24,
   "id": "048b52b3-48be-4bce-9fc1-0bede3898492",
   "metadata": {},
   "outputs": [
    {
     "name": "stdout",
     "output_type": "stream",
     "text": [
      "0.4862712840999208\n",
      "0.1821119772043024\n",
      "0.5157611645069539\n",
      "0.008169482029450448\n",
      "0.22906282266322142\n",
      "0.9425896924553598\n",
      "0.3749126991716186\n",
      "0.5606815122253586\n",
      "0.1280589676433307\n",
      "0.2729230524757661\n"
     ]
    }
   ],
   "source": [
    "# random float\n",
    "for i in range(10):\n",
    "    print(random.random())"
   ]
  },
  {
   "cell_type": "code",
   "execution_count": 25,
   "id": "c156d17e-9238-463f-9822-7e11613ad8a5",
   "metadata": {},
   "outputs": [
    {
     "name": "stdout",
     "output_type": "stream",
     "text": [
      "7.821325966634358\n",
      "8.776589610204024\n",
      "7.945636149242854\n",
      "5.912943349978627\n",
      "7.6941962717198855\n",
      "8.369710495188148\n",
      "6.41618632146824\n",
      "9.483741073964016\n",
      "7.054256188944257\n",
      "7.413491514666791\n"
     ]
    }
   ],
   "source": [
    "for i in range(10):\n",
    "    print(random.uniform(5,10))"
   ]
  },
  {
   "cell_type": "code",
   "execution_count": 26,
   "id": "fe306f12-ee95-4351-993c-4d1f2d55c6e7",
   "metadata": {},
   "outputs": [
    {
     "name": "stdin",
     "output_type": "stream",
     "text": [
      "make a guess 100\n"
     ]
    },
    {
     "name": "stdout",
     "output_type": "stream",
     "text": [
      "lower\n"
     ]
    },
    {
     "name": "stdin",
     "output_type": "stream",
     "text": [
      "make a guess 50\n"
     ]
    },
    {
     "name": "stdout",
     "output_type": "stream",
     "text": [
      "higher\n"
     ]
    },
    {
     "name": "stdin",
     "output_type": "stream",
     "text": [
      "make a guess 75\n"
     ]
    },
    {
     "name": "stdout",
     "output_type": "stream",
     "text": [
      "lower\n"
     ]
    },
    {
     "name": "stdin",
     "output_type": "stream",
     "text": [
      "make a guess 66\n"
     ]
    },
    {
     "name": "stdout",
     "output_type": "stream",
     "text": [
      "lower\n"
     ]
    },
    {
     "name": "stdin",
     "output_type": "stream",
     "text": [
      "make a guess 60\n"
     ]
    },
    {
     "name": "stdout",
     "output_type": "stream",
     "text": [
      "correct guess! 60 == 60\n"
     ]
    }
   ],
   "source": [
    "ans = random.randint(1,99)\n",
    "guess = None\n",
    "while (ans != guess):\n",
    "    guess = int (input(\"make a guess\"))\n",
    "    if guess > ans:\n",
    "        print('lower')\n",
    "    elif guess < ans:\n",
    "        print('higher')\n",
    "    else:\n",
    "        print(f\"correct guess! {ans} == {guess}\")\n",
    "        "
   ]
  },
  {
   "cell_type": "code",
   "execution_count": 41,
   "id": "4bfabdf3-81b8-46bc-a1f1-c0dd0b43a392",
   "metadata": {},
   "outputs": [
    {
     "name": "stdout",
     "output_type": "stream",
     "text": [
      "_T                                                 |\n",
      "------R                                            |\n",
      "___T                                               |\n",
      "----------R                                        |\n",
      "_________T                                         |\n",
      "---------------R                                   |\n",
      "__________T                                        |\n",
      "---------------------R                             |\n",
      "______________T                                    |\n",
      "----------------------R                            |\n",
      "__________________T                                |\n",
      "-------------------------R                         |\n",
      "____________________T                              |\n",
      "-----------------------------R                     |\n",
      "_______________________T                           |\n",
      "------------------------------R                    |\n",
      "___________________________T                       |\n",
      "-----------------------------------R               |\n",
      "_________________________________T                 |\n",
      "------------------------------------R              |\n",
      "___________________________________T               |\n",
      "-----------------------------------------R         |\n",
      "____________________________________T              |\n",
      "----------------------------------------------R    |\n",
      "______________________________________T            |\n",
      "-------------------------------------------------R |\n",
      "________________________________________T          |\n",
      "-----------------------------------------------------R\n"
     ]
    }
   ],
   "source": [
    "# rabbit and turtle game\n",
    "t = 0 \n",
    "r = 0\n",
    "finishLine = 50 # finish line\n",
    "while (t< finishLine and r < finishLine):\n",
    "    t += random.randint(1,6)\n",
    "    r += random.randint(1,6)\n",
    "    # show how far they've traveled\n",
    "    for i in range(t):\n",
    "        print('_', end=\"\")\n",
    "    print('T', end =\"\")\n",
    "    \n",
    "    if(t<finishLine):\n",
    "        for _ in range(t,finishLine):\n",
    "            print(\" \", end = '')\n",
    "        print(\"|\")\n",
    "    else:\n",
    "        print()\n",
    "    \n",
    "    for i in range(r):\n",
    "        print('-',end=\"\")\n",
    "    print('R', end = \"\")\n",
    "\n",
    "    if(r<finishLine):            \n",
    "        for _ in range(r,finishLine):        \n",
    "            print(\" \", end = '')\n",
    "        print(\"|\")\n",
    "    else:\n",
    "        print()"
   ]
  },
  {
   "cell_type": "code",
   "execution_count": null,
   "id": "e9191c84-7cc7-465e-af96-3ab33f65d367",
   "metadata": {},
   "outputs": [],
   "source": []
  }
 ],
 "metadata": {
  "kernelspec": {
   "display_name": "base",
   "language": "python",
   "name": "base"
  },
  "language_info": {
   "codemirror_mode": {
    "name": "ipython",
    "version": 3
   },
   "file_extension": ".py",
   "mimetype": "text/x-python",
   "name": "python",
   "nbconvert_exporter": "python",
   "pygments_lexer": "ipython3",
   "version": "3.12.4"
  }
 },
 "nbformat": 4,
 "nbformat_minor": 5
}
