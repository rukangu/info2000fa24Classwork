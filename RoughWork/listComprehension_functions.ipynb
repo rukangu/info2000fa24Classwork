{
 "cells": [
  {
   "cell_type": "code",
   "execution_count": null,
   "id": "03b16d44-707b-46ec-a3c2-c3f2774a7d8d",
   "metadata": {},
   "outputs": [],
   "source": []
  }
 ],
 "metadata": {
  "kernelspec": {
   "display_name": "base",
   "language": "python",
   "name": "base"
  },
  "language_info": {
   "codemirror_mode": {
    "name": "ipython",
    "version": 3
   },
   "file_extension": ".py",
   "mimetype": "text/x-python",
   "name": "python",
   "nbconvert_exporter": "python",
   "pygments_lexer": "ipython3",
   "version": "3.12.4"
  }
 },
 "nbformat": 4,
 "nbformat_minor": 5
}
