{
 "cells": [
  {
   "cell_type": "code",
   "execution_count": 1,
   "metadata": {},
   "outputs": [],
   "source": [
    "import re"
   ]
  },
  {
   "cell_type": "code",
   "execution_count": 10,
   "metadata": {},
   "outputs": [
    {
     "name": "stdout",
     "output_type": "stream",
     "text": [
      "a\n"
     ]
    }
   ],
   "source": [
    "str1 = 'abc'\n",
    "x = re.search(r'a', str1)\n",
    "if x:\n",
    "    print(x.group())\n",
    "else:\n",
    "    print('no match')"
   ]
  },
  {
   "cell_type": "code",
   "execution_count": 3,
   "metadata": {},
   "outputs": [
    {
     "data": {
      "text/plain": [
       "<re.Match object; span=(0, 1), match='a'>"
      ]
     },
     "execution_count": 3,
     "metadata": {},
     "output_type": "execute_result"
    }
   ],
   "source": [
    "x"
   ]
  },
  {
   "cell_type": "code",
   "execution_count": 9,
   "metadata": {},
   "outputs": [
    {
     "data": {
      "text/plain": [
       "'a'"
      ]
     },
     "execution_count": 9,
     "metadata": {},
     "output_type": "execute_result"
    }
   ],
   "source": [
    "x.group()"
   ]
  },
  {
   "cell_type": "code",
   "execution_count": null,
   "metadata": {},
   "outputs": [
    {
     "name": "stdout",
     "output_type": "stream",
     "text": [
      "abc\n"
     ]
    }
   ],
   "source": [
    "str1 = 'abc'\n",
    "x = re.search(r'a(b|d|e|f)c', str1)\n",
    "if x:\n",
    "    print(x.group())\n",
    "else:\n",
    "    print('no match')"
   ]
  },
  {
   "cell_type": "code",
   "execution_count": 14,
   "metadata": {},
   "outputs": [
    {
     "name": "stdout",
     "output_type": "stream",
     "text": [
      "abc\n"
     ]
    }
   ],
   "source": [
    "str1 = 'abc'\n",
    "x = re.search(r'a[abcdefg]c', str1)\n",
    "if x:\n",
    "    print(x.group())\n",
    "else:\n",
    "    print('no match')"
   ]
  },
  {
   "cell_type": "code",
   "execution_count": 15,
   "metadata": {},
   "outputs": [
    {
     "name": "stdout",
     "output_type": "stream",
     "text": [
      "abc\n"
     ]
    }
   ],
   "source": [
    "str1 = 'abc'\n",
    "x = re.search(r'a[a-z]c', str1)\n",
    "if x:\n",
    "    print(x.group())\n",
    "else:\n",
    "    print('no match')"
   ]
  },
  {
   "cell_type": "code",
   "execution_count": 19,
   "metadata": {},
   "outputs": [
    {
     "name": "stdout",
     "output_type": "stream",
     "text": [
      "abc\n"
     ]
    }
   ],
   "source": [
    "str1 = 'abc'\n",
    "x = re.search(r'a[\\w]c', str1)\n",
    "if x:\n",
    "    print(x.group())\n",
    "else:\n",
    "    print('no match')"
   ]
  },
  {
   "cell_type": "code",
   "execution_count": 20,
   "metadata": {},
   "outputs": [
    {
     "name": "stdout",
     "output_type": "stream",
     "text": [
      "a3c\n"
     ]
    }
   ],
   "source": [
    "str1 = 'a3c'\n",
    "x = re.search(r'a[a-zA-Z0-9]c', str1)\n",
    "if x:\n",
    "    print(x.group())\n",
    "else:\n",
    "    print('no match')"
   ]
  },
  {
   "cell_type": "code",
   "execution_count": 21,
   "metadata": {},
   "outputs": [
    {
     "name": "stdout",
     "output_type": "stream",
     "text": [
      "abc\n"
     ]
    }
   ],
   "source": [
    "str1 = 'abc'\n",
    "x = re.search(r'a[\\w]c', str1)\n",
    "if x:\n",
    "    print(x.group())\n",
    "else:\n",
    "    print('no match')"
   ]
  },
  {
   "cell_type": "code",
   "execution_count": 26,
   "metadata": {},
   "outputs": [
    {
     "data": {
      "text/plain": [
       "['__class__',\n",
       " '__class_getitem__',\n",
       " '__copy__',\n",
       " '__deepcopy__',\n",
       " '__delattr__',\n",
       " '__dir__',\n",
       " '__doc__',\n",
       " '__eq__',\n",
       " '__format__',\n",
       " '__ge__',\n",
       " '__getattribute__',\n",
       " '__getitem__',\n",
       " '__getstate__',\n",
       " '__gt__',\n",
       " '__hash__',\n",
       " '__init__',\n",
       " '__init_subclass__',\n",
       " '__le__',\n",
       " '__lt__',\n",
       " '__module__',\n",
       " '__ne__',\n",
       " '__new__',\n",
       " '__reduce__',\n",
       " '__reduce_ex__',\n",
       " '__repr__',\n",
       " '__setattr__',\n",
       " '__sizeof__',\n",
       " '__str__',\n",
       " '__subclasshook__',\n",
       " 'end',\n",
       " 'endpos',\n",
       " 'expand',\n",
       " 'group',\n",
       " 'groupdict',\n",
       " 'groups',\n",
       " 'lastgroup',\n",
       " 'lastindex',\n",
       " 'pos',\n",
       " 're',\n",
       " 'regs',\n",
       " 'span',\n",
       " 'start',\n",
       " 'string']"
      ]
     },
     "execution_count": 26,
     "metadata": {},
     "output_type": "execute_result"
    }
   ],
   "source": [
    "x = re.match(str1,r'abc')\n",
    "dir(x)"
   ]
  },
  {
   "cell_type": "code",
   "execution_count": null,
   "metadata": {},
   "outputs": [
    {
     "name": "stdout",
     "output_type": "stream",
     "text": [
      "<re.Match object; span=(3, 7), match='rain'>\n",
      "['rain', 'Spain']\n"
     ]
    }
   ],
   "source": [
    "str1 = 'It rains in Spain'\n",
    "y = re.findall(r'S?[rp]ains?', str1)\n",
    "x = re.search(r'[rp]ain', str1)\n",
    "if x:\n",
    "    print(x)\n",
    "else:\n",
    "    print('no match')\n",
    "\n",
    "print(y)"
   ]
  },
  {
   "cell_type": "code",
   "execution_count": 32,
   "metadata": {},
   "outputs": [
    {
     "name": "stdout",
     "output_type": "stream",
     "text": [
      "['rains', 'Spain', 'plain', 'train', 'stain']\n",
      "['It', 'rains', 'in', 'Spain,', 'we', 'got', 'a', 'plain,', 'train,', 'and', 'stain']\n",
      "<re.Match object; span=(3, 7), match='rain'>\n"
     ]
    }
   ],
   "source": [
    "str1 = 'It rains in Spain, we got a plain, train, and stain'\n",
    "\n",
    "x = re.search(r'[rp]ain', str1)\n",
    "y = re.findall(r'[Stps]?[rplt]ains?', str1)\n",
    "z = re.split(r' ', str1)\n",
    "\n",
    "print(y)\n",
    "print(z)\n",
    "if x:\n",
    "    print(x)\n",
    "else:\n",
    "    print('No match')"
   ]
  },
  {
   "cell_type": "code",
   "execution_count": 34,
   "metadata": {},
   "outputs": [
    {
     "name": "stdout",
     "output_type": "stream",
     "text": [
      "['rains', 'Spain', 'plain', 'train', 'stain']\n",
      "['It', 'rains', 'in', 'Spain,', 'we', 'got', 'a', 'plain,', 'train,', 'and', 'stain']\n",
      "a0c\n"
     ]
    }
   ],
   "source": [
    "str1 = 'It rains in Spain, we got a plain, train, and stain'\n",
    "\n",
    "x = re.search(r'[rp]ain', str1)\n",
    "y = re.findall(r'[Stps]?[rplt]ains?', str1)\n",
    "z = re.split(r' ', str1)\n",
    "str2 = 'a0c'\n",
    "x = re.search(r'a[\\w\\s\\d]c',str2)\n",
    "print(y)\n",
    "print(z)\n",
    "if x:\n",
    "    print(x.group())\n",
    "else:\n",
    "    print('No match')"
   ]
  },
  {
   "cell_type": "code",
   "execution_count": 2,
   "metadata": {},
   "outputs": [
    {
     "name": "stdout",
     "output_type": "stream",
     "text": [
      "1 apple\n",
      "1\n",
      "apple\n",
      "2 oranges\n",
      "2\n",
      "oranges\n",
      "3 bananas\n",
      "3\n",
      "bananas\n",
      "4 oranges\n",
      "4\n",
      "oranges\n",
      "5 grapes\n",
      "5\n",
      "grapes\n"
     ]
    }
   ],
   "source": [
    "import re\n",
    "fruits = ['1 apple', '2 oranges','3 bananas', '4 oranges', '5 grapes']\n",
    "for fruit in fruits:\n",
    "    x = re.search(r'(\\d+) (\\w+)', fruit)\n",
    "    if x:\n",
    "        print(x.string)\n",
    "        print(x.group(1))\n",
    "        print(x.group(2))\n",
    "    else:\n",
    "        print('No match')"
   ]
  },
  {
   "cell_type": "code",
   "execution_count": 13,
   "metadata": {},
   "outputs": [],
   "source": [
    "bib_citation = r'''@article{xie2007role,\n",
    "  title={The role of microRNA in the delayed negative feedback regulation of gene expression},\n",
    "  author={Xie, Zhong-Ru and Yang, Hsih-Te and Liu, Wei-Chung and Hwang, Ming-Jing},\n",
    "  journal={Biochemical and biophysical research communications},\n",
    "  volume={358},\n",
    "  number={3},\n",
    "  pages={722--726},\n",
    "  year={2007},\n",
    "  publisher={Elsevier}\n",
    "}'''"
   ]
  },
  {
   "cell_type": "code",
   "execution_count": 14,
   "metadata": {},
   "outputs": [
    {
     "name": "stdout",
     "output_type": "stream",
     "text": [
      "@article{xie2007role,\n",
      "  title={The role of microRNA in the delayed negative feedback regulation of gene expression},\n",
      "  author={Xie, Zhong-Ru and Yang, Hsih-Te and Liu, Wei-Chung and Hwang, Ming-Jing},\n",
      "  journal={Biochemical and biophysical research communications},\n",
      "  volume={358},\n",
      "  number={3},\n",
      "  pages={722--726},\n",
      "  year={2007},\n",
      "  publisher={Elsevier}\n",
      "}\n"
     ]
    }
   ],
   "source": [
    "print(bib_citation)"
   ]
  },
  {
   "cell_type": "code",
   "execution_count": 15,
   "metadata": {},
   "outputs": [],
   "source": [
    "bib_list = bib_citation.split('\\n')"
   ]
  },
  {
   "cell_type": "code",
   "execution_count": 16,
   "metadata": {},
   "outputs": [],
   "source": [
    "bib_list = [x.strip() for x in bib_list]"
   ]
  },
  {
   "cell_type": "code",
   "execution_count": 17,
   "metadata": {},
   "outputs": [
    {
     "data": {
      "text/plain": [
       "['@article{xie2007role,',\n",
       " 'title={The role of microRNA in the delayed negative feedback regulation of gene expression},',\n",
       " 'author={Xie, Zhong-Ru and Yang, Hsih-Te and Liu, Wei-Chung and Hwang, Ming-Jing},',\n",
       " 'journal={Biochemical and biophysical research communications},',\n",
       " 'volume={358},',\n",
       " 'number={3},',\n",
       " 'pages={722--726},',\n",
       " 'year={2007},',\n",
       " 'publisher={Elsevier}',\n",
       " '}']"
      ]
     },
     "execution_count": 17,
     "metadata": {},
     "output_type": "execute_result"
    }
   ],
   "source": [
    "bib_list"
   ]
  },
  {
   "cell_type": "code",
   "execution_count": 31,
   "metadata": {},
   "outputs": [
    {
     "name": "stdout",
     "output_type": "stream",
     "text": [
      "@article{xie2007role,\n",
      "no match\n",
      "title={The role of microRNA in the delayed negative feedback regulation of gene expression},\n",
      "no match\n",
      "author={Xie, Zhong-Ru and Yang, Hsih-Te and Liu, Wei-Chung and Hwang, Ming-Jing},\n",
      "['Xie, Zhong-Ru and Yang, Hsih-Te and Liu, Wei-Chung and Hwang, Ming-Jing']\n",
      "journal={Biochemical and biophysical research communications},\n",
      "no match\n",
      "volume={358},\n",
      "no match\n",
      "number={3},\n",
      "no match\n",
      "pages={722--726},\n",
      "no match\n",
      "year={2007},\n",
      "no match\n",
      "publisher={Elsevier}\n",
      "no match\n",
      "}\n",
      "no match\n"
     ]
    }
   ],
   "source": [
    "for line in bib_list:\n",
    "    print(line)\n",
    "    p = r'author={(.*)}'\n",
    "    matches = re.findall(pattern=p, string=line)\n",
    "    if matches:\n",
    "        print(matches)\n",
    "    else:\n",
    "        print('no match')"
   ]
  },
  {
   "cell_type": "code",
   "execution_count": 25,
   "metadata": {},
   "outputs": [
    {
     "data": {
      "text/plain": [
       "[]"
      ]
     },
     "execution_count": 25,
     "metadata": {},
     "output_type": "execute_result"
    }
   ],
   "source": [
    "s = '-,'\n",
    "re.findall(r'(\\w\\W)',s)"
   ]
  },
  {
   "cell_type": "code",
   "execution_count": null,
   "metadata": {},
   "outputs": [],
   "source": []
  }
 ],
 "metadata": {
  "kernelspec": {
   "display_name": "base",
   "language": "python",
   "name": "python3"
  },
  "language_info": {
   "codemirror_mode": {
    "name": "ipython",
    "version": 3
   },
   "file_extension": ".py",
   "mimetype": "text/x-python",
   "name": "python",
   "nbconvert_exporter": "python",
   "pygments_lexer": "ipython3",
   "version": "3.12.3"
  }
 },
 "nbformat": 4,
 "nbformat_minor": 2
}
