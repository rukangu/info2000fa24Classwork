{
 "cells": [
  {
   "cell_type": "code",
   "execution_count": 2,
   "id": "03b16d44-707b-46ec-a3c2-c3f2774a7d8d",
   "metadata": {},
   "outputs": [
    {
     "data": {
      "text/plain": [
       "[2, 3, 4, 5]"
      ]
     },
     "execution_count": 2,
     "metadata": {},
     "output_type": "execute_result"
    }
   ],
   "source": [
    "L1 = [1,2,3,4]\n",
    "m = map(lambda X: X+1, L1)\n",
    "list(m)"
   ]
  },
  {
   "cell_type": "code",
   "execution_count": 3,
   "id": "ef3aa2c8-be4d-480e-8822-61e71efcfdfa",
   "metadata": {},
   "outputs": [
    {
     "data": {
      "text/plain": [
       "[2, 3, 4, 5]"
      ]
     },
     "execution_count": 3,
     "metadata": {},
     "output_type": "execute_result"
    }
   ],
   "source": [
    "L2 = [x+1 for x in L1]\n",
    "L2"
   ]
  },
  {
   "cell_type": "code",
   "execution_count": 13,
   "id": "69b6fbaf-4459-4525-b58b-c18f2e26fecd",
   "metadata": {},
   "outputs": [
    {
     "data": {
      "text/plain": [
       "[0, 0, 9, 16]"
      ]
     },
     "execution_count": 13,
     "metadata": {},
     "output_type": "execute_result"
    }
   ],
   "source": [
    "L2 = [x**2 if (x>2 and (x+13%2)) else 0 for x in L1 ]\n",
    "L2"
   ]
  },
  {
   "cell_type": "code",
   "execution_count": 14,
   "id": "a5b917b2-6a9d-4264-8f77-41ffb9f01eb5",
   "metadata": {},
   "outputs": [],
   "source": [
    "def addOne(x):\n",
    "    return x + 1\n"
   ]
  },
  {
   "cell_type": "code",
   "execution_count": 16,
   "id": "63280dec-431c-452d-a9d9-4a69ccf8e57d",
   "metadata": {},
   "outputs": [],
   "source": [
    "mapped = map(addOne, L1)"
   ]
  },
  {
   "cell_type": "code",
   "execution_count": 17,
   "id": "68a17394-44ea-4fd8-afa1-240f59a791b3",
   "metadata": {},
   "outputs": [
    {
     "data": {
      "text/plain": [
       "[2, 3, 4, 5]"
      ]
     },
     "execution_count": 17,
     "metadata": {},
     "output_type": "execute_result"
    }
   ],
   "source": [
    "list(mapped)"
   ]
  },
  {
   "cell_type": "code",
   "execution_count": 24,
   "id": "e75a0934-08c0-4d59-88b4-176837a1c2a4",
   "metadata": {},
   "outputs": [],
   "source": [
    "import random\n",
    "import string\n",
    "def encoder(message, key1 = 7, key2 = 10):\n",
    "    N = len(message) * key2\n",
    "    encoded_message = ''\n",
    "    for i in range(N):\n",
    "        if i%key2 == key1:\n",
    "            encoded_message += message[i//10]\n",
    "        else:\n",
    "            encoded_message += random.choice(string.printable)\n",
    "    return encoded_message"
   ]
  },
  {
   "cell_type": "code",
   "execution_count": 25,
   "id": "c7ce305e-0e43-4ed5-a510-515c2b4b9206",
   "metadata": {},
   "outputs": [
    {
     "name": "stdin",
     "output_type": "stream",
     "text": [
      "please type your message Happy Tuesday!\n"
     ]
    },
    {
     "name": "stdout",
     "output_type": "stream",
     "text": [
      ").ZBja[H&Tkmh57\tEa_l>}#eod\n",
      "pfpOMHz\u000b",
      "Wtp[,(VnDl[?y,QKf\"[5XV T5aK;Y\tD*TOJNevFp.du:@2]jy2+4e!E!hGqXZlsL9Havf\\bJd6\n",
      ":d*Zlm4$!`<\t7\tqsYy\n"
     ]
    }
   ],
   "source": [
    "message  = input ('please type your message')\n",
    "secret_message = encoder(message)\n",
    "print(secret_message)"
   ]
  },
  {
   "cell_type": "code",
   "execution_count": 29,
   "id": "5f1b08b4-8dd3-49f0-ba26-2e31c96023cb",
   "metadata": {},
   "outputs": [],
   "source": [
    "def decoder(message, key1 = 7, key2 = 10):\n",
    "    n = len(message)\n",
    "    m = ''\n",
    "    for i in range(len(message)):\n",
    "        if i%key2 == key1:\n",
    "            m+=message[i]\n",
    "    return m     \n",
    "        "
   ]
  },
  {
   "cell_type": "code",
   "execution_count": 30,
   "id": "4657812d-56a3-48d0-a076-ced29720a762",
   "metadata": {},
   "outputs": [
    {
     "data": {
      "text/plain": [
       "'Happy Tuesday!'"
      ]
     },
     "execution_count": 30,
     "metadata": {},
     "output_type": "execute_result"
    }
   ],
   "source": [
    "decoder(secret_message)"
   ]
  },
  {
   "cell_type": "code",
   "execution_count": 9,
   "id": "aba3a5a5-74dc-4d4c-aec3-37a7aee6ffa6",
   "metadata": {},
   "outputs": [],
   "source": [
    "# number guessing game\n",
    "import random\n",
    "def generateRandom(n):\n",
    "    x = list(range(10))\n",
    "    random.shuffle(x) # shuffle to randomize\n",
    "    # return \"\".join([str(num) for num in x[0:n]]) # select n from the random (because it's shuffled) list of ten, then joint them into a string\n",
    "    return  [str(num) for num in x[0:n]]"
   ]
  },
  {
   "cell_type": "code",
   "execution_count": 66,
   "id": "241bf028-b13b-48e6-934a-14951cc6615e",
   "metadata": {},
   "outputs": [
    {
     "data": {
      "text/plain": [
       "['1', '0', '3', '8']"
      ]
     },
     "execution_count": 66,
     "metadata": {},
     "output_type": "execute_result"
    }
   ],
   "source": [
    "generateRandom(4)"
   ]
  },
  {
   "cell_type": "code",
   "execution_count": 49,
   "id": "03eb3058-0a15-42d6-aa59-f038708f182d",
   "metadata": {},
   "outputs": [
    {
     "data": {
      "text/plain": [
       "[5, 3]"
      ]
     },
     "execution_count": 49,
     "metadata": {},
     "output_type": "execute_result"
    }
   ],
   "source": [
    "random.choices(range(10), k =2) # without replacement"
   ]
  },
  {
   "cell_type": "code",
   "execution_count": 58,
   "id": "9200d173-d025-4951-8ab0-91e49005af00",
   "metadata": {},
   "outputs": [],
   "source": [
    "d = random.sample(range(10), k = 4) # with replacement"
   ]
  },
  {
   "cell_type": "code",
   "execution_count": 59,
   "id": "57179d2b-cbfe-42f0-b7fd-46a736e61065",
   "metadata": {
    "jp-MarkdownHeadingCollapsed": true
   },
   "outputs": [
    {
     "data": {
      "text/plain": [
       "[6, 5, 7, 3]"
      ]
     },
     "execution_count": 59,
     "metadata": {},
     "output_type": "execute_result"
    }
   ],
   "source": [
    "d[0:4]"
   ]
  },
  {
   "cell_type": "code",
   "execution_count": null,
   "id": "861697ed-e040-4c62-96a8-b9687e16ee18",
   "metadata": {},
   "outputs": [
    {
     "name": "stdout",
     "output_type": "stream",
     "text": [
      "Welcome to the number guessing game\n"
     ]
    },
    {
     "name": "stdin",
     "output_type": "stream",
     "text": [
      "Enter 4 digit number 0123\n"
     ]
    },
    {
     "name": "stdout",
     "output_type": "stream",
     "text": [
      "0 A \n",
      "2 B\n"
     ]
    },
    {
     "name": "stdin",
     "output_type": "stream",
     "text": [
      "Enter 4 digit number 4567\n"
     ]
    },
    {
     "name": "stdout",
     "output_type": "stream",
     "text": [
      "0 A \n",
      "2 B\n"
     ]
    },
    {
     "name": "stdin",
     "output_type": "stream",
     "text": [
      "Enter 4 digit number 8901\n"
     ]
    },
    {
     "name": "stdout",
     "output_type": "stream",
     "text": [
      "0 A \n",
      "1 B\n"
     ]
    },
    {
     "name": "stdin",
     "output_type": "stream",
     "text": [
      "Enter 4 digit number 4501\n"
     ]
    },
    {
     "name": "stdout",
     "output_type": "stream",
     "text": [
      "0 A \n",
      "2 B\n"
     ]
    },
    {
     "name": "stdin",
     "output_type": "stream",
     "text": [
      "Enter 4 digit number 6701\n"
     ]
    },
    {
     "name": "stdout",
     "output_type": "stream",
     "text": [
      "0 A \n",
      "2 B\n"
     ]
    },
    {
     "name": "stdin",
     "output_type": "stream",
     "text": [
      "Enter 4 digit number 0101\n"
     ]
    },
    {
     "name": "stdout",
     "output_type": "stream",
     "text": [
      "0 A \n",
      "2 B\n"
     ]
    },
    {
     "name": "stdin",
     "output_type": "stream",
     "text": [
      "Enter 4 digit number 0189\n"
     ]
    },
    {
     "name": "stdout",
     "output_type": "stream",
     "text": [
      "0 A \n",
      "1 B\n"
     ]
    },
    {
     "name": "stdin",
     "output_type": "stream",
     "text": [
      "Enter 4 digit number 8989\n"
     ]
    },
    {
     "name": "stdout",
     "output_type": "stream",
     "text": [
      "0 A \n",
      "0 B\n"
     ]
    },
    {
     "name": "stdin",
     "output_type": "stream",
     "text": [
      "Enter 4 digit number 0101\n"
     ]
    },
    {
     "name": "stdout",
     "output_type": "stream",
     "text": [
      "0 A \n",
      "2 B\n"
     ]
    },
    {
     "name": "stdin",
     "output_type": "stream",
     "text": [
      "Enter 4 digit number 0123\n"
     ]
    },
    {
     "name": "stdout",
     "output_type": "stream",
     "text": [
      "0 A \n",
      "2 B\n"
     ]
    },
    {
     "name": "stdin",
     "output_type": "stream",
     "text": [
      "Enter 4 digit number 0129\n"
     ]
    },
    {
     "name": "stdout",
     "output_type": "stream",
     "text": [
      "0 A \n",
      "2 B\n"
     ]
    },
    {
     "name": "stdin",
     "output_type": "stream",
     "text": [
      "Enter 4 digit number 0245\n"
     ]
    },
    {
     "name": "stdout",
     "output_type": "stream",
     "text": [
      "0 A \n",
      "3 B\n"
     ]
    },
    {
     "name": "stdin",
     "output_type": "stream",
     "text": [
      "Enter 4 digit number 1245\n"
     ]
    },
    {
     "name": "stdout",
     "output_type": "stream",
     "text": [
      "0 A \n",
      "2 B\n"
     ]
    },
    {
     "name": "stdin",
     "output_type": "stream",
     "text": [
      "Enter 4 digit number 0249\n"
     ]
    },
    {
     "name": "stdout",
     "output_type": "stream",
     "text": [
      "0 A \n",
      "2 B\n"
     ]
    },
    {
     "name": "stdin",
     "output_type": "stream",
     "text": [
      "Enter 4 digit number 0255\n"
     ]
    },
    {
     "name": "stdout",
     "output_type": "stream",
     "text": [
      "1 A \n",
      "3 B\n"
     ]
    },
    {
     "name": "stdin",
     "output_type": "stream",
     "text": [
      "Enter 4 digit number 0256\n"
     ]
    },
    {
     "name": "stdout",
     "output_type": "stream",
     "text": [
      "2 A \n",
      "2 B\n"
     ]
    },
    {
     "name": "stdin",
     "output_type": "stream",
     "text": [
      "Enter 4 digit number 2056\n"
     ]
    },
    {
     "name": "stdout",
     "output_type": "stream",
     "text": [
      "4 A \n",
      "0 B\n",
      "YOU WON!! :2056 \n",
      "\n",
      "\n",
      "\n"
     ]
    },
    {
     "name": "stdin",
     "output_type": "stream",
     "text": [
      "play again?y|n y\n",
      "Enter 4 digit number 0123\n"
     ]
    },
    {
     "name": "stdout",
     "output_type": "stream",
     "text": [
      "0 A \n",
      "2 B\n"
     ]
    },
    {
     "name": "stdin",
     "output_type": "stream",
     "text": [
      "Enter 4 digit number 1023\n"
     ]
    },
    {
     "name": "stdout",
     "output_type": "stream",
     "text": [
      "1 A \n",
      "1 B\n"
     ]
    },
    {
     "name": "stdin",
     "output_type": "stream",
     "text": [
      "Enter 4 digit number 1032\n"
     ]
    },
    {
     "name": "stdout",
     "output_type": "stream",
     "text": [
      "1 A \n",
      "1 B\n"
     ]
    },
    {
     "name": "stdin",
     "output_type": "stream",
     "text": [
      "Enter 4 digit number 3245\n"
     ]
    },
    {
     "name": "stdout",
     "output_type": "stream",
     "text": [
      "0 A \n",
      "2 B\n"
     ]
    },
    {
     "name": "stdin",
     "output_type": "stream",
     "text": [
      "Enter 4 digit number 1045\n"
     ]
    },
    {
     "name": "stdout",
     "output_type": "stream",
     "text": [
      "1 A \n",
      "1 B\n"
     ]
    },
    {
     "name": "stdin",
     "output_type": "stream",
     "text": [
      "Enter 4 digit number 4567\n"
     ]
    },
    {
     "name": "stdout",
     "output_type": "stream",
     "text": [
      "0 A \n",
      "2 B\n"
     ]
    },
    {
     "name": "stdin",
     "output_type": "stream",
     "text": [
      "Enter 4 digit number 678\n",
      "Enter 4 digit number 6789\n"
     ]
    },
    {
     "name": "stdout",
     "output_type": "stream",
     "text": [
      "0 A \n",
      "1 B\n"
     ]
    },
    {
     "name": "stdin",
     "output_type": "stream",
     "text": [
      "Enter 4 digit number 1053\n"
     ]
    },
    {
     "name": "stdout",
     "output_type": "stream",
     "text": [
      "2 A \n",
      "0 B\n"
     ]
    },
    {
     "name": "stdin",
     "output_type": "stream",
     "text": [
      "Enter 4 digit number 1054\n"
     ]
    },
    {
     "name": "stdout",
     "output_type": "stream",
     "text": [
      "2 A \n",
      "0 B\n"
     ]
    },
    {
     "name": "stdin",
     "output_type": "stream",
     "text": [
      "Enter 4 digit number 1056\n"
     ]
    },
    {
     "name": "stdout",
     "output_type": "stream",
     "text": [
      "3 A \n",
      "0 B\n"
     ]
    },
    {
     "name": "stdin",
     "output_type": "stream",
     "text": [
      "Enter 4 digit number 1057\n"
     ]
    },
    {
     "name": "stdout",
     "output_type": "stream",
     "text": [
      "2 A \n",
      "0 B\n"
     ]
    },
    {
     "name": "stdin",
     "output_type": "stream",
     "text": [
      "Enter 4 digit number 1058\n"
     ]
    },
    {
     "name": "stdout",
     "output_type": "stream",
     "text": [
      "2 A \n",
      "0 B\n"
     ]
    },
    {
     "name": "stdin",
     "output_type": "stream",
     "text": [
      "Enter 4 digit number 1059\n"
     ]
    },
    {
     "name": "stdout",
     "output_type": "stream",
     "text": [
      "2 A \n",
      "0 B\n"
     ]
    },
    {
     "name": "stdin",
     "output_type": "stream",
     "text": [
      "Enter 4 digit number 1052\n"
     ]
    },
    {
     "name": "stdout",
     "output_type": "stream",
     "text": [
      "2 A \n",
      "1 B\n"
     ]
    },
    {
     "name": "stdin",
     "output_type": "stream",
     "text": [
      "Enter 4 digit number 1025\n"
     ]
    },
    {
     "name": "stdout",
     "output_type": "stream",
     "text": [
      "1 A \n",
      "2 B\n"
     ]
    }
   ],
   "source": [
    "print(\"Welcome to the number guessing game\")\n",
    "ground_truth = generateRandom(4)\n",
    "# print(ground_truth)\n",
    "while True:\n",
    "    while True:\n",
    "        user_in = input(\"Enter 4 digit number\")\n",
    "        if len(user_in)== 4:\n",
    "            # convert into list\n",
    "            user_in = [x for x in user_in]\n",
    "            break\n",
    "        # here you can also check to see if the numbers are valid numeric numbers\n",
    "    zipped_nums = zip(ground_truth, user_in)\n",
    "    A = 0\n",
    "    B = 0\n",
    "    for real,guess in zipped_nums:\n",
    "        if guess == real:\n",
    "            # print(f'adding to A. {guess} == {real}')\n",
    "            A+=1\n",
    "        elif guess in ground_truth:\n",
    "            # print(f'adding to B. {guess} in {ground_truth}')\n",
    "            B+=1\n",
    "    print(f\"{A} A \\n{B} B\")\n",
    "    if user_in == ground_truth:\n",
    "        print(f\"YOU WON!! :{''.join(ground_truth)} \\n\\n\\n\")\n",
    "        quit = False\n",
    "        while True:\n",
    "            u = input('play again?y|n')\n",
    "            if u in 'yY': \n",
    "                quit = False\n",
    "                break\n",
    "            elif u in 'nN':\n",
    "                quit = True\n",
    "                break\n",
    "        if quit:\n",
    "            break"
   ]
  },
  {
   "cell_type": "code",
   "execution_count": 67,
   "id": "9eb2724d-241b-417c-9f4b-6070b8216c6f",
   "metadata": {},
   "outputs": [
    {
     "data": {
      "text/plain": [
       "['1', '2', '3', '4']"
      ]
     },
     "execution_count": 67,
     "metadata": {},
     "output_type": "execute_result"
    }
   ],
   "source": [
    "s = '1234'\n",
    "l = [x for x in s]\n",
    "l"
   ]
  },
  {
   "cell_type": "code",
   "execution_count": 79,
   "id": "4f5b282e-d8b0-4d6f-9bc1-1d5dbb9369a7",
   "metadata": {},
   "outputs": [
    {
     "data": {
      "text/plain": [
       "False"
      ]
     },
     "execution_count": 79,
     "metadata": {},
     "output_type": "execute_result"
    }
   ],
   "source": [
    "'a' in 'hello'"
   ]
  },
  {
   "cell_type": "code",
   "execution_count": 82,
   "id": "67450610-61bd-4b8a-b2ee-e0f80a0ec174",
   "metadata": {},
   "outputs": [
    {
     "name": "stdout",
     "output_type": "stream",
     "text": [
      "\n",
      "\n",
      " aaa\n"
     ]
    }
   ],
   "source": [
    "print(f\"\\n\\n aaa\")"
   ]
  },
  {
   "cell_type": "code",
   "execution_count": 7,
   "id": "ed7babf0-15c1-4552-98ab-a536ced582e4",
   "metadata": {},
   "outputs": [
    {
     "name": "stdout",
     "output_type": "stream",
     "text": [
      "[5, 6, 7, 4]\n"
     ]
    },
    {
     "name": "stdin",
     "output_type": "stream",
     "text": [
      "please input your guess 5671\n"
     ]
    },
    {
     "name": "stdout",
     "output_type": "stream",
     "text": [
      "[5, 6, 7, 1]\n",
      "a 3,b 0\n"
     ]
    },
    {
     "name": "stdin",
     "output_type": "stream",
     "text": [
      "please input your guess 7651\n"
     ]
    },
    {
     "name": "stdout",
     "output_type": "stream",
     "text": [
      "[7, 6, 5, 1]\n",
      "a 1,b 2\n"
     ]
    },
    {
     "ename": "KeyboardInterrupt",
     "evalue": "Interrupted by user",
     "output_type": "error",
     "traceback": [
      "\u001b[1;31m---------------------------------------------------------------------------\u001b[0m",
      "\u001b[1;31mKeyboardInterrupt\u001b[0m                         Traceback (most recent call last)",
      "Cell \u001b[1;32mIn[7], line 24\u001b[0m\n\u001b[0;32m     22\u001b[0m b \u001b[38;5;241m=\u001b[39m \u001b[38;5;241m0\u001b[39m\n\u001b[0;32m     23\u001b[0m \u001b[38;5;28;01mwhile\u001b[39;00m(a\u001b[38;5;241m<\u001b[39m\u001b[38;5;241m4\u001b[39m):\n\u001b[1;32m---> 24\u001b[0m     g \u001b[38;5;241m=\u001b[39m \u001b[38;5;28minput\u001b[39m(\u001b[38;5;124m\"\u001b[39m\u001b[38;5;124mplease input your guess\u001b[39m\u001b[38;5;124m\"\u001b[39m)\n\u001b[0;32m     25\u001b[0m     guess \u001b[38;5;241m=\u001b[39m []\n\u001b[0;32m     26\u001b[0m     \u001b[38;5;28;01mfor\u001b[39;00m i \u001b[38;5;129;01min\u001b[39;00m \u001b[38;5;28mrange\u001b[39m (\u001b[38;5;241m4\u001b[39m):\n",
      "File \u001b[1;32m~\\miniconda3\\Lib\\site-packages\\ipykernel\\kernelbase.py:1262\u001b[0m, in \u001b[0;36mKernel.raw_input\u001b[1;34m(self, prompt)\u001b[0m\n\u001b[0;32m   1260\u001b[0m     msg \u001b[38;5;241m=\u001b[39m \u001b[38;5;124m\"\u001b[39m\u001b[38;5;124mraw_input was called, but this frontend does not support input requests.\u001b[39m\u001b[38;5;124m\"\u001b[39m\n\u001b[0;32m   1261\u001b[0m     \u001b[38;5;28;01mraise\u001b[39;00m StdinNotImplementedError(msg)\n\u001b[1;32m-> 1262\u001b[0m \u001b[38;5;28;01mreturn\u001b[39;00m \u001b[38;5;28mself\u001b[39m\u001b[38;5;241m.\u001b[39m_input_request(\n\u001b[0;32m   1263\u001b[0m     \u001b[38;5;28mstr\u001b[39m(prompt),\n\u001b[0;32m   1264\u001b[0m     \u001b[38;5;28mself\u001b[39m\u001b[38;5;241m.\u001b[39m_parent_ident[\u001b[38;5;124m\"\u001b[39m\u001b[38;5;124mshell\u001b[39m\u001b[38;5;124m\"\u001b[39m],\n\u001b[0;32m   1265\u001b[0m     \u001b[38;5;28mself\u001b[39m\u001b[38;5;241m.\u001b[39mget_parent(\u001b[38;5;124m\"\u001b[39m\u001b[38;5;124mshell\u001b[39m\u001b[38;5;124m\"\u001b[39m),\n\u001b[0;32m   1266\u001b[0m     password\u001b[38;5;241m=\u001b[39m\u001b[38;5;28;01mFalse\u001b[39;00m,\n\u001b[0;32m   1267\u001b[0m )\n",
      "File \u001b[1;32m~\\miniconda3\\Lib\\site-packages\\ipykernel\\kernelbase.py:1305\u001b[0m, in \u001b[0;36mKernel._input_request\u001b[1;34m(self, prompt, ident, parent, password)\u001b[0m\n\u001b[0;32m   1302\u001b[0m \u001b[38;5;28;01mexcept\u001b[39;00m \u001b[38;5;167;01mKeyboardInterrupt\u001b[39;00m:\n\u001b[0;32m   1303\u001b[0m     \u001b[38;5;66;03m# re-raise KeyboardInterrupt, to truncate traceback\u001b[39;00m\n\u001b[0;32m   1304\u001b[0m     msg \u001b[38;5;241m=\u001b[39m \u001b[38;5;124m\"\u001b[39m\u001b[38;5;124mInterrupted by user\u001b[39m\u001b[38;5;124m\"\u001b[39m\n\u001b[1;32m-> 1305\u001b[0m     \u001b[38;5;28;01mraise\u001b[39;00m \u001b[38;5;167;01mKeyboardInterrupt\u001b[39;00m(msg) \u001b[38;5;28;01mfrom\u001b[39;00m \u001b[38;5;28;01mNone\u001b[39;00m\n\u001b[0;32m   1306\u001b[0m \u001b[38;5;28;01mexcept\u001b[39;00m \u001b[38;5;167;01mException\u001b[39;00m:\n\u001b[0;32m   1307\u001b[0m     \u001b[38;5;28mself\u001b[39m\u001b[38;5;241m.\u001b[39mlog\u001b[38;5;241m.\u001b[39mwarning(\u001b[38;5;124m\"\u001b[39m\u001b[38;5;124mInvalid Message:\u001b[39m\u001b[38;5;124m\"\u001b[39m, exc_info\u001b[38;5;241m=\u001b[39m\u001b[38;5;28;01mTrue\u001b[39;00m)\n",
      "\u001b[1;31mKeyboardInterrupt\u001b[0m: Interrupted by user"
     ]
    }
   ],
   "source": [
    "# paul's method in class\n",
    "import random\n",
    "ans = random.sample(range(10),4)\n",
    "def compute_a(guess):\n",
    "    a = 0\n",
    "    for i in range(len(guess)):\n",
    "        if ans[i] == guess[i]:\n",
    "             a+=1\n",
    "    return a\n",
    "\n",
    "def compute_b(guess):\n",
    "    b = 0\n",
    "    for i in range(len(guess)):\n",
    "        if ans[i] == guess[i]:\n",
    "            continue\n",
    "        elif guess[i] in ans:\n",
    "            b +=1\n",
    "    return b\n",
    "\n",
    "print(ans)\n",
    "a = 0\n",
    "b = 0\n",
    "while(a<4):\n",
    "    g = input(\"please input your guess\")\n",
    "    guess = []\n",
    "    for i in range (4):\n",
    "        guess.append(int(g[i]))\n",
    "    print(guess)\n",
    "    a = compute_a(guess)\n",
    "    b = compute_b(guess)\n",
    "    print(f\"a {a},b {b}\")"
   ]
  },
  {
   "cell_type": "code",
   "execution_count": null,
   "id": "289bbb3f-a351-454a-a750-e1ab75f8eb78",
   "metadata": {},
   "outputs": [],
   "source": []
  }
 ],
 "metadata": {
  "kernelspec": {
   "display_name": "base",
   "language": "python",
   "name": "base"
  },
  "language_info": {
   "codemirror_mode": {
    "name": "ipython",
    "version": 3
   },
   "file_extension": ".py",
   "mimetype": "text/x-python",
   "name": "python",
   "nbconvert_exporter": "python",
   "pygments_lexer": "ipython3",
   "version": "3.12.4"
  }
 },
 "nbformat": 4,
 "nbformat_minor": 5
}
