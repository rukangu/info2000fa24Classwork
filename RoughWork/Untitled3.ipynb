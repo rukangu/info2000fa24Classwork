{
 "cells": [
  {
   "cell_type": "code",
   "execution_count": 18,
   "id": "8d87164d-3e4d-4a54-a610-ac76c77ec3ae",
   "metadata": {},
   "outputs": [],
   "source": [
    "def is_prime_bool(n):\n",
    "    if n==2:\n",
    "        return True\n",
    "    elif n <= 0 or n ==1:\n",
    "        return False\n",
    "    for i in range(2,n-1):\n",
    "        if n%i == 0:\n",
    "            return False\n",
    "    return True"
   ]
  },
  {
   "cell_type": "code",
   "execution_count": 19,
   "id": "fa2e57a8-6b7c-4bbd-a495-3986cfc8bd23",
   "metadata": {},
   "outputs": [
    {
     "data": {
      "text/plain": [
       "[2,\n",
       " 3,\n",
       " 5,\n",
       " 7,\n",
       " 11,\n",
       " 13,\n",
       " 17,\n",
       " 19,\n",
       " 23,\n",
       " 29,\n",
       " 31,\n",
       " 37,\n",
       " 41,\n",
       " 43,\n",
       " 47,\n",
       " 53,\n",
       " 59,\n",
       " 61,\n",
       " 67,\n",
       " 71,\n",
       " 73,\n",
       " 79,\n",
       " 83,\n",
       " 89,\n",
       " 97]"
      ]
     },
     "execution_count": 19,
     "metadata": {},
     "output_type": "execute_result"
    }
   ],
   "source": [
    "primes = []\n",
    "for i in range(100):\n",
    "    if is_prime_bool(i):\n",
    "        primes.append(i)\n",
    "primes"
   ]
  },
  {
   "cell_type": "code",
   "execution_count": 34,
   "id": "295471ac-1f93-4112-a54d-111da8740f37",
   "metadata": {},
   "outputs": [],
   "source": [
    "def is_prime(n):\n",
    "    prime = True\n",
    "    if n==2:\n",
    "        return n\n",
    "    elif n <= 0 or n == 1:\n",
    "        return\n",
    "    for i in range(2,n-1):\n",
    "        if n%i == 0:\n",
    "            prime = False\n",
    "    if prime:        \n",
    "        return n"
   ]
  },
  {
   "cell_type": "code",
   "execution_count": 35,
   "id": "154ba866-2807-4ab6-9b21-4b7423f8b0f4",
   "metadata": {},
   "outputs": [],
   "source": [
    "primes =  [ x for x in list(map(lambda x:is_prime(x), range(100))) if not x == None ]"
   ]
  },
  {
   "cell_type": "code",
   "execution_count": 36,
   "id": "ff966e63-85b7-4257-a347-56ab6aa6d6e0",
   "metadata": {},
   "outputs": [
    {
     "data": {
      "text/plain": [
       "[2,\n",
       " 3,\n",
       " 5,\n",
       " 7,\n",
       " 11,\n",
       " 13,\n",
       " 17,\n",
       " 19,\n",
       " 23,\n",
       " 29,\n",
       " 31,\n",
       " 37,\n",
       " 41,\n",
       " 43,\n",
       " 47,\n",
       " 53,\n",
       " 59,\n",
       " 61,\n",
       " 67,\n",
       " 71,\n",
       " 73,\n",
       " 79,\n",
       " 83,\n",
       " 89,\n",
       " 97]"
      ]
     },
     "execution_count": 36,
     "metadata": {},
     "output_type": "execute_result"
    }
   ],
   "source": [
    "primes"
   ]
  },
  {
   "cell_type": "code",
   "execution_count": 28,
   "id": "fff4521f-a2e6-4956-848b-bb37eb46b232",
   "metadata": {},
   "outputs": [
    {
     "name": "stdout",
     "output_type": "stream",
     "text": [
      "   *\n",
      "  ***\n",
      " *****\n",
      "*******\n"
     ]
    }
   ],
   "source": [
    "n = 4\n",
    "for i in range(1,n+1):\n",
    "    spaces = \" \" * (n-i)\n",
    "    stars = \"*\" * (2*i - 1)\n",
    "    print(spaces+stars)"
   ]
  },
  {
   "cell_type": "code",
   "execution_count": null,
   "id": "b94f0102-d2e0-40ae-b4da-43143bbd2a8d",
   "metadata": {},
   "outputs": [],
   "source": []
  }
 ],
 "metadata": {
  "kernelspec": {
   "display_name": "base",
   "language": "python",
   "name": "base"
  },
  "language_info": {
   "codemirror_mode": {
    "name": "ipython",
    "version": 3
   },
   "file_extension": ".py",
   "mimetype": "text/x-python",
   "name": "python",
   "nbconvert_exporter": "python",
   "pygments_lexer": "ipython3",
   "version": "3.12.4"
  }
 },
 "nbformat": 4,
 "nbformat_minor": 5
}
