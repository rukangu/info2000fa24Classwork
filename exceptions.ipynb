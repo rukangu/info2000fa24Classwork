{
 "cells": [
  {
   "cell_type": "code",
   "execution_count": 12,
   "id": "ae50dda8-6dd9-4e58-8cc2-eb86506e1bbb",
   "metadata": {},
   "outputs": [
    {
     "name": "stdin",
     "output_type": "stream",
     "text": [
      "enter a lucky number 0\n"
     ]
    },
    {
     "name": "stdout",
     "output_type": "stream",
     "text": [
      "Enter a non-zero value\n",
      "This always runs\n"
     ]
    },
    {
     "name": "stdin",
     "output_type": "stream",
     "text": [
      "enter a lucky number 4\n"
     ]
    },
    {
     "name": "stdout",
     "output_type": "stream",
     "text": [
      "10 divided by your lucky number is 2.5 \n",
      " Your lucky number to index = 6\n",
      "This always runs\n"
     ]
    },
    {
     "name": "stdin",
     "output_type": "stream",
     "text": [
      "enter a lucky number y\n"
     ]
    },
    {
     "name": "stdout",
     "output_type": "stream",
     "text": [
      "This always runs\n"
     ]
    }
   ],
   "source": [
    "quitvalues = ['y', 'yes', 'yup', 'q']\n",
    "lucky_numbers = [1,2,4,5,6,7,8,10] \n",
    "while True:\n",
    "    try:\n",
    "        user_in = input(\"enter a lucky number\") # get the raw input        \n",
    "        if user_in in quitvalues:\n",
    "            break\n",
    "        # try running the error prone statements\n",
    "        user_in = int(user_in)\n",
    "        lucky_idx = lucky_numbers[user_in]\n",
    "        div = 10 / user_in\n",
    "    except ValueError:\n",
    "        print(\"we have a value error. Enter an int / float\")\n",
    "    except ZeroDivisionError:\n",
    "        print(\"Enter a non-zero value\")\n",
    "    except:\n",
    "        print(f\"Generic error handler. Enter a number between 1 and {len(lucky_numbers)}\")\n",
    "        \n",
    "    else:\n",
    "        # no errors \n",
    "        print (f\"10 divided by your lucky number is { 10 / user_in} \\n Your lucky number to index = {lucky_numbers[user_in]}\")      \n",
    "    finally:\n",
    "        print(\"This always runs\")\n",
    "        \n",
    "                  "
   ]
  },
  {
   "cell_type": "code",
   "execution_count": null,
   "id": "3eee69a5-aa6f-451a-8148-1e9762b1ea59",
   "metadata": {},
   "outputs": [],
   "source": []
  }
 ],
 "metadata": {
  "kernelspec": {
   "display_name": "base",
   "language": "python",
   "name": "base"
  },
  "language_info": {
   "codemirror_mode": {
    "name": "ipython",
    "version": 3
   },
   "file_extension": ".py",
   "mimetype": "text/x-python",
   "name": "python",
   "nbconvert_exporter": "python",
   "pygments_lexer": "ipython3",
   "version": "3.12.3"
  }
 },
 "nbformat": 4,
 "nbformat_minor": 5
}
